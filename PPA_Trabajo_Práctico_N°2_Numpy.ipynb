{
  "cells": [
    {
      "cell_type": "markdown",
      "metadata": {
        "id": "view-in-github",
        "colab_type": "text"
      },
      "source": [
        "<a href=\"https://colab.research.google.com/github/JuanRoccia/Google-Colab/blob/main/PPA_Trabajo_Pr%C3%A1ctico_N%C2%B02_Numpy.ipynb\" target=\"_parent\"><img src=\"https://colab.research.google.com/assets/colab-badge.svg\" alt=\"Open In Colab\"/></a>"
      ]
    },
    {
      "cell_type": "markdown",
      "metadata": {
        "id": "uS8EEwhdUw8m"
      },
      "source": [
        "# ***Trabajo Práctico 2 - NumPy***\n",
        "\n",
        "\n",
        "---\n",
        "\n"
      ]
    },
    {
      "cell_type": "markdown",
      "metadata": {
        "id": "55shgTL-Uw8r"
      },
      "source": [
        "## Ejercicio 1\n",
        "Definir un script que pida al usuario ingresar 4 valores 𝑎, 𝑏, 𝑐, 𝑑. Generar con éstos dos vectores 𝑢 = (𝑎, 𝑏) y 𝑣 = (𝑐, 𝑑). El script debe imprimir una matriz con los resultados de las operaciones:\n",
        "\n",
        "```\n",
        "a. 𝑣 − 𝑢\n",
        "b. − 𝑣 − 𝑢 \n",
        "c. 2𝑢 − 𝑣 \n",
        "d. 1/2𝑢 − 2𝑣\n",
        "```\n"
      ]
    },
    {
      "cell_type": "code",
      "execution_count": null,
      "metadata": {
        "id": "6sx1hUBZUw8s"
      },
      "outputs": [],
      "source": [
        "import numpy as np"
      ]
    },
    {
      "cell_type": "code",
      "execution_count": null,
      "metadata": {
        "id": "7TrBuqNyUw8u"
      },
      "outputs": [],
      "source": [
        "# print('Ingrese 4 valores')\n",
        "# a = input('Primer valor: ')\n",
        "# b = input('Segundo valor: ')\n",
        "# c = input('Tercer valor: ')\n",
        "# d = input('Cuarto valor: ')"
      ]
    },
    {
      "cell_type": "code",
      "execution_count": null,
      "metadata": {
        "id": "TdAeBuVbUw8u"
      },
      "outputs": [],
      "source": [
        "a = 2\n",
        "b = 4\n",
        "c = 16\n",
        "d = 3"
      ]
    },
    {
      "cell_type": "code",
      "execution_count": null,
      "metadata": {
        "colab": {
          "base_uri": "https://localhost:8080/"
        },
        "id": "ZwT1N9ltUw8v",
        "outputId": "e048663c-a326-4563-e1c0-1174a99b26ec"
      },
      "outputs": [
        {
          "output_type": "stream",
          "name": "stdout",
          "text": [
            "u = [2 4] \n",
            "v = [16  3] \n",
            "v - u = [14 -1] \n"
          ]
        }
      ],
      "source": [
        "#a. v - u\n",
        "u = np.array( [a, b] )\n",
        "v = np.array( [c, d] )\n",
        "print(f'u = {u} ')\n",
        "print(f'v = {v} ')\n",
        "\n",
        "resta = v - u\n",
        "print(f'v - u = {resta} ')"
      ]
    },
    {
      "cell_type": "code",
      "execution_count": null,
      "metadata": {
        "colab": {
          "base_uri": "https://localhost:8080/"
        },
        "id": "d6nj-FsdUw8w",
        "outputId": "2883505c-fd91-483c-f248-2a375d72477b"
      },
      "outputs": [
        {
          "output_type": "stream",
          "name": "stdout",
          "text": [
            "-v - u = [-18  -7] \n"
          ]
        }
      ],
      "source": [
        "#b. -v - u\n",
        "menos_v = -v - u\n",
        "print(f'-v - u = {menos_v} ')"
      ]
    },
    {
      "cell_type": "code",
      "execution_count": null,
      "metadata": {
        "colab": {
          "base_uri": "https://localhost:8080/"
        },
        "id": "bhf1pZqqUw8x",
        "outputId": "3dce43c3-8988-421b-8569-2aa8e203f0ce"
      },
      "outputs": [
        {
          "output_type": "stream",
          "name": "stdout",
          "text": [
            "2u - v = [-12   5] \n"
          ]
        }
      ],
      "source": [
        "#c. 2u - v\n",
        "multi_resta = (2*u) - v\n",
        "print(f'2u - v = {multi_resta} ')"
      ]
    },
    {
      "cell_type": "code",
      "execution_count": null,
      "metadata": {
        "colab": {
          "base_uri": "https://localhost:8080/"
        },
        "id": "FOatFNprUw8x",
        "outputId": "9048385c-ed42-4a82-d82c-118c52d731ca"
      },
      "outputs": [
        {
          "output_type": "stream",
          "name": "stdout",
          "text": [
            "1/2u - 2v = [-12   5] \n"
          ]
        }
      ],
      "source": [
        "#d. 1/2u - 2v\n",
        "div_multi_resta = 1/2*u - 2*v\n",
        "print(f'1/2u - 2v = {multi_resta} ')"
      ]
    },
    {
      "cell_type": "markdown",
      "metadata": {
        "id": "WLQZX0bpUw8y"
      },
      "source": [
        "## Ejercicio 2\n",
        "Una tienda de electrodomésticos escribía a mano en el archivo de texto <i>“stock.txt”</i> los productos que vende, junto con el respectivo precio y stock restante. Quieren guardar esta información en bloques de datos más seguros.<br>\n",
        "Implementar un script que lea los n datos el archivo y genere tres arreglos unidimensionales con los tres tipos de datos del mismo.<br>\n",
        "<b>Ayuda:</b> Reorganizarlos en una matriz de tres columnas y n filas, y luego dividirla en tres vectores y finalmente arreglar la inconsistencia de tipos."
      ]
    },
    {
      "cell_type": "markdown",
      "source": [
        "***File Handling***"
      ],
      "metadata": {
        "id": "z2oX3yEBriPy"
      }
    },
    {
      "cell_type": "code",
      "execution_count": null,
      "metadata": {
        "colab": {
          "base_uri": "https://localhost:8080/"
        },
        "id": "EZ859pJhUw8y",
        "outputId": "c40a3506-78d4-4827-9a62-38100200d559"
      },
      "outputs": [
        {
          "output_type": "stream",
          "name": "stdout",
          "text": [
            "heladera\n",
            "79999.99\n",
            "4\n",
            "microondas\n",
            "24539.66\n",
            "8\n",
            "licuadora\n",
            "5608.25\n",
            "13\n",
            "pava electrica\n",
            "4950.75\n",
            "22\n",
            "exprimidor electrico\n",
            "2243.33\n",
            "17\n"
          ]
        }
      ],
      "source": [
        "#Archivo .txt original\n",
        "#Quieren guardar esta información en bloques de datos más seguros\n",
        "\n",
        "crear_archivo = open('stock.txt','x')\n",
        "escribir_archivo = open('stock.txt','w')\n",
        "escribir_archivo.write('''heladera\n",
        "79999.99\n",
        "4\n",
        "microondas\n",
        "24539.66\n",
        "8\n",
        "licuadora\n",
        "5608.25\n",
        "13\n",
        "pava electrica\n",
        "4950.75\n",
        "22\n",
        "exprimidor electrico\n",
        "2243.33\n",
        "17''')\n",
        "escribir_archivo.close()\n",
        "\n",
        "abrir_archivo = open('stock.txt','r')\n",
        "print(abrir_archivo.read())"
      ]
    },
    {
      "cell_type": "code",
      "source": [
        "# script que lea los n datos del archivo\n",
        "\n",
        "archivo = open('stock.txt','r')\n",
        "datos = archivo.read().split('\\n') #se guarda en lista\n",
        "archivo.close()\n",
        "print('Con split() guardo el .txt (bien separado) en la lista: ')\n",
        "print(datos)"
      ],
      "metadata": {
        "colab": {
          "base_uri": "https://localhost:8080/"
        },
        "id": "lFTszYu_WfVz",
        "outputId": "8dc09c95-d3b9-4de7-f3c5-7f994208dceb"
      },
      "execution_count": null,
      "outputs": [
        {
          "output_type": "stream",
          "name": "stdout",
          "text": [
            "Con split() guardo el .txt (bien separado) en la lista: \n",
            "['heladera', '79999.99', '4', 'microondas', '24539.66', '8', 'licuadora', '5608.25', '13', 'pava electrica', '4950.75', '22', 'exprimidor electrico', '2243.33', '17']\n"
          ]
        }
      ]
    },
    {
      "cell_type": "markdown",
      "source": [
        "***Python Module***"
      ],
      "metadata": {
        "id": "X6ydMuKur5Pg"
      }
    },
    {
      "cell_type": "code",
      "source": [
        "import numpy as np\n",
        "\n",
        "datos = np.array(datos) #se guarda en matriz\n",
        "print('np.array() convierte la lista en matriz: ')\n",
        "print(datos)"
      ],
      "metadata": {
        "colab": {
          "base_uri": "https://localhost:8080/"
        },
        "id": "GrWMlYzi4_XU",
        "outputId": "6e8cbf6e-4bef-49fe-95ec-0d651b4346e7"
      },
      "execution_count": null,
      "outputs": [
        {
          "output_type": "stream",
          "name": "stdout",
          "text": [
            "np.array() convierte la lista en matriz: \n",
            "['heladera' '79999.99' '4' 'microondas' '24539.66' '8' 'licuadora'\n",
            " '5608.25' '13' 'pava electrica' '4950.75' '22' 'exprimidor electrico'\n",
            " '2243.33' '17']\n"
          ]
        }
      ]
    },
    {
      "cell_type": "code",
      "source": [
        "len_datos = len(datos) #cantidad de elementos en lista\n",
        "filas = int(len_datos / 3) #/producto precio y cantidad\n",
        "columnas = 3\n",
        "datos = datos.reshape(filas, columnas) #Organiza la matriz\n",
        "print(datos)"
      ],
      "metadata": {
        "colab": {
          "base_uri": "https://localhost:8080/"
        },
        "id": "RG1_K6yK5BZr",
        "outputId": "fb645d69-5605-41b5-a4b6-74fca43030aa"
      },
      "execution_count": null,
      "outputs": [
        {
          "output_type": "stream",
          "name": "stdout",
          "text": [
            "[['heladera' '79999.99' '4']\n",
            " ['microondas' '24539.66' '8']\n",
            " ['licuadora' '5608.25' '13']\n",
            " ['pava electrica' '4950.75' '22']\n",
            " ['exprimidor electrico' '2243.33' '17']]\n"
          ]
        }
      ]
    },
    {
      "cell_type": "code",
      "source": [
        "[producto, precio, cantidad] = np.split(datos, 3, 1) #asigna su forma correspondiente\n",
        "print(producto)\n",
        "print(cantidad)\n",
        "print(precio)"
      ],
      "metadata": {
        "colab": {
          "base_uri": "https://localhost:8080/"
        },
        "id": "-438O2aB6frQ",
        "outputId": "cad01b65-9cfc-431c-81a1-ff8700711587"
      },
      "execution_count": null,
      "outputs": [
        {
          "output_type": "stream",
          "name": "stdout",
          "text": [
            "[['heladera']\n",
            " ['microondas']\n",
            " ['licuadora']\n",
            " ['pava electrica']\n",
            " ['exprimidor electrico']]\n",
            "[['4']\n",
            " ['8']\n",
            " ['13']\n",
            " ['22']\n",
            " ['17']]\n",
            "[['79999.99']\n",
            " ['24539.66']\n",
            " ['5608.25']\n",
            " ['4950.75']\n",
            " ['2243.33']]\n"
          ]
        }
      ]
    },
    {
      "cell_type": "code",
      "source": [
        "# por ultimo convertir los formatos de str, en este caso, precio y cantidad a float.\n",
        "precio = precio.astype('float')\n",
        "cantidad = cantidad.astype('int')\n",
        "print(f'''producto: \n",
        "{producto} \n",
        "''')\n",
        "print(f'''cantidad: \n",
        "{cantidad} \n",
        "''')\n",
        "print(f'''precio: \n",
        "{precio}''')"
      ],
      "metadata": {
        "colab": {
          "base_uri": "https://localhost:8080/"
        },
        "id": "bLC-zGaa7m_8",
        "outputId": "b11d80d9-bf69-475c-8783-1d685143074e"
      },
      "execution_count": null,
      "outputs": [
        {
          "output_type": "stream",
          "name": "stdout",
          "text": [
            "producto: \n",
            "[['heladera']\n",
            " ['microondas']\n",
            " ['licuadora']\n",
            " ['pava electrica']\n",
            " ['exprimidor electrico']] \n",
            "\n",
            "cantidad: \n",
            "[[ 4]\n",
            " [ 8]\n",
            " [13]\n",
            " [22]\n",
            " [17]] \n",
            "\n",
            "precio: \n",
            "[[79999.99]\n",
            " [24539.66]\n",
            " [ 5608.25]\n",
            " [ 4950.75]\n",
            " [ 2243.33]]\n"
          ]
        }
      ]
    },
    {
      "cell_type": "markdown",
      "source": [
        "# **A partir del inciso anterior:**"
      ],
      "metadata": {
        "id": "WZGPa872_Uja"
      }
    },
    {
      "cell_type": "markdown",
      "source": [
        "## Ejercicio 3\n",
        "Escribir un script que pida un string al usuario con el nombre de un producto, busqué\n",
        "si se encuentra en el vector, y en cuyo caso imprima su precio y cantidad disponible.\n"
      ],
      "metadata": {
        "id": "azqtwyOe-_4J"
      }
    },
    {
      "cell_type": "code",
      "source": [
        "nombre_producto = input('Ingrese producto: ')\n",
        "if (nombre_producto in producto):\n",
        "  pos = np.where(producto == nombre_producto)\n",
        "  print(f'El precio de {nombre_producto} es de ${precio[pos][0]}. Quedan {cantidad[pos][0]} unidades.')"
      ],
      "metadata": {
        "colab": {
          "base_uri": "https://localhost:8080/"
        },
        "id": "lQH-v3dm_Ckh",
        "outputId": "7bf65850-51a8-4332-a58b-2a19e8bbfbb4"
      },
      "execution_count": null,
      "outputs": [
        {
          "output_type": "stream",
          "name": "stdout",
          "text": [
            "Ingrese producto: heladera\n",
            "El precio de heladera es de $79999.99. Quedan 4 unidades.\n"
          ]
        }
      ]
    },
    {
      "cell_type": "markdown",
      "source": [
        "## Ejercicio 4\n",
        "4. Escribir una función comprar(producto) que reciba un string con el nombre de\n",
        "un producto, verifique si existe o hay disponibilidad, y en dicho caso disminuya la\n",
        "cantidad disponible y retornará Verdadero, en cualquier otro caso deberá devolver\n",
        "Falso."
      ],
      "metadata": {
        "id": "dAhdoQ3jSJoH"
      }
    },
    {
      "cell_type": "code",
      "source": [
        "# Funcion comprar producto\n",
        "def comprar_producto(producto_solicitado):\n",
        "  if producto_solicitado in producto: \n",
        "    pos = np.where(producto_solicitado == producto) \n",
        "    if cantidad[pos] > 0: # Si la cantidad en la posicion del producto solicitado es mayor a cero entonces hay disponibilidad.\n",
        "      cantidad[pos] = cantidad[pos] - 1 # se le resta el prodcuto solicitado (se resta realmente en la matriz? o es solo la resta de la posicion solicitada?)\n",
        "      return True, f'Se retiro {producto_solicitado} ', f'Quedan {cantidad[pos][0]} unidades.'\n",
        "    else:\n",
        "      return False, 'No hay stock.'\n",
        "  else:\n",
        "    return False, 'No existe el producto.'"
      ],
      "metadata": {
        "id": "aq4D3j-hUED7"
      },
      "execution_count": null,
      "outputs": []
    },
    {
      "cell_type": "code",
      "source": [
        "# Que reciba un string con el nombre de un producto\n",
        "print(cantidad[pos])\n",
        "comprar_producto(input(\"Solicitar producto: \"))\n",
        "print(cantidad[pos])"
      ],
      "metadata": {
        "colab": {
          "base_uri": "https://localhost:8080/"
        },
        "id": "eHYwPQKpjY5M",
        "outputId": "5456d737-fc4f-4e34-9e3f-d1003d1ed592"
      },
      "execution_count": null,
      "outputs": [
        {
          "output_type": "stream",
          "name": "stdout",
          "text": [
            "[4]\n",
            "Solicitar producto: heladera\n",
            "[3]\n"
          ]
        }
      ]
    },
    {
      "cell_type": "code",
      "source": [
        "print(datos)# matriz original"
      ],
      "metadata": {
        "colab": {
          "base_uri": "https://localhost:8080/"
        },
        "id": "86SVppKXkXR-",
        "outputId": "b24575d4-ab7b-4f61-be71-67593ecb15c8"
      },
      "execution_count": null,
      "outputs": [
        {
          "output_type": "stream",
          "name": "stdout",
          "text": [
            "[['heladera' '79999.99' '4']\n",
            " ['microondas' '24539.66' '8']\n",
            " ['licuadora' '5608.25' '13']\n",
            " ['pava electrica' '4950.75' '22']\n",
            " ['exprimidor electrico' '2243.33' '17']]\n"
          ]
        }
      ]
    },
    {
      "cell_type": "markdown",
      "source": [
        "## Ejercicio 5\n",
        "Escribir una función Agregar(producto, precio, cantidad) y\n",
        "Reponer(producto, cantidad). La primera añadirá un nuevo elemento a los\n",
        "tres vectores (en caso de que no exista en la misma), la segunda aumentará la\n",
        "cantidad disponible de dicho producto, en caso de que el mismo exista. Ambas\n",
        "retornarán Verdadero o Falso según corresponda."
      ],
      "metadata": {
        "id": "X6mCoHO7OBuR"
      }
    },
    {
      "cell_type": "code",
      "source": [
        "# La funcion reponer(producto, cantidad) aumentará la cantidad de dicho producto,\n",
        "# en caso de que el mismo exista.\n",
        "def reponer_producto(producto_repuesto, cantidad_a_reponer):\n",
        "  if (producto_repuesto in producto):\n",
        "    pos = np.where(producto == producto_repuesto)\n",
        "    cantidad[pos] = cantidad[pos] + cantidad_a_reponer\n",
        "    return True, f'Se repuso el producto: {producto_repuesto}. Total: {cantidad[pos][0]} '\n",
        "  else:\n",
        "    return False, f'No existe el producto.'"
      ],
      "metadata": {
        "id": "9J4POsV9nFCP"
      },
      "execution_count": null,
      "outputs": []
    },
    {
      "cell_type": "code",
      "source": [
        "reponer_producto(input('Producto a reponer: '), float(input('Cantidad: ')))"
      ],
      "metadata": {
        "colab": {
          "base_uri": "https://localhost:8080/"
        },
        "id": "H9s09Waup9wk",
        "outputId": "9b7db6db-81ea-49d6-81c4-ee8a5e8f9b88"
      },
      "execution_count": null,
      "outputs": [
        {
          "name": "stdout",
          "output_type": "stream",
          "text": [
            "Producto a reponer: heladera\n",
            "Cantidad: 1\n"
          ]
        },
        {
          "output_type": "execute_result",
          "data": {
            "text/plain": [
              "(True, 'Se repuso el producto: heladera. Total: 4 ')"
            ]
          },
          "metadata": {},
          "execution_count": 14
        }
      ]
    },
    {
      "cell_type": "code",
      "source": [
        "# La función Agregar(producto, precio, cantidad)\n",
        "# Añadirá un nuevo elemento a los tres vectores (en caso de que no exista en la misma).\n",
        "def agregar_producto(producto, precio, cantidad, producto_nuevo, precio_nuevo, cantidad_nuevo):\n",
        "  if producto_nuevo in producto:\n",
        "    return False, 'The product already exist.'\n",
        "  else:\n",
        "    producto = np.append(producto, producto_nuevo)\n",
        "    precio = np.append(precio, precio_nuevo)\n",
        "    cantidad = np.append(cantidad, cantidad_nuevo)\n",
        "    return True, producto, precio, cantidad"
      ],
      "metadata": {
        "id": "Z8511tdoOGXx"
      },
      "execution_count": null,
      "outputs": []
    },
    {
      "cell_type": "code",
      "source": [
        "agregar_producto(producto,\n",
        "                 precio,\n",
        "                 cantidad,\n",
        "                 input('Producto nuevo: '),\n",
        "                 float(input('Precio: ')),\n",
        "                 int(input('Cantidad: '))\n",
        "                 )"
      ],
      "metadata": {
        "colab": {
          "base_uri": "https://localhost:8080/"
        },
        "id": "yaWhIMKJp9yw",
        "outputId": "f1845621-e844-4f45-8f28-a7b6c2f5bbad"
      },
      "execution_count": null,
      "outputs": [
        {
          "name": "stdout",
          "output_type": "stream",
          "text": [
            "Producto nuevo: TOMACO\n",
            "Precio: 199.99\n",
            "Cantidad: 1\n"
          ]
        },
        {
          "output_type": "execute_result",
          "data": {
            "text/plain": [
              "(True, array(['heladera', 'microondas', 'licuadora', 'pava electrica',\n",
              "        'exprimidor electrico', 'TOMACO'], dtype='<U20'), array([79999.99, 24539.66,  5608.25,  4950.75,  2243.33,   199.99]), array([ 4,  8, 13, 22, 17,  1]))"
            ]
          },
          "metadata": {},
          "execution_count": 34
        }
      ]
    },
    {
      "cell_type": "markdown",
      "source": [
        "## Ejercicio 6\n",
        "Se desea implementar un sistema de lotería virtual. A continuación se detallan los\n",
        "pasos a seguir para desarrollar un prototipo del proyecto. Se detallan los pasos a\n",
        "seguir acompañado de observaciones a tener en cuenta para cuando deban\n",
        "preparar sus propios proyectos."
      ],
      "metadata": {
        "id": "JfpfnJ0FteWI"
      }
    },
    {
      "cell_type": "markdown",
      "source": [
        "a. Primero generar la combinación del billete ganador en un vector. El billete\n",
        "deberá contener cuatro (4) números aleatorios en el rango [0 ; 5].\n",
        "Obs: El rango de los números aleatorios es muy acotado. La razón de esto\n",
        "se explicará en el inciso c"
      ],
      "metadata": {
        "id": "ARybWN_CtouM"
      }
    },
    {
      "cell_type": "code",
      "source": [
        "import numpy as np\n",
        "\n",
        "ganador = np.random.randint(0, 5, size=4)\n",
        "print(ganador)"
      ],
      "metadata": {
        "colab": {
          "base_uri": "https://localhost:8080/"
        },
        "id": "C_BMS6wttiHh",
        "outputId": "708d2735-43d9-47fc-d790-591417be395f"
      },
      "execution_count": null,
      "outputs": [
        {
          "output_type": "stream",
          "name": "stdout",
          "text": [
            "[0 3 3 4]\n"
          ]
        }
      ]
    },
    {
      "cell_type": "markdown",
      "source": [
        "b. Debemos generar los billetes de los participantes. Crearemos una matriz a\n",
        "cuyas filas asignaremos 10 billetes aleatorios (con las mismas restricciones\n",
        "del billete ganador).<br>\n",
        "\n",
        "Obs: Reutilizar el código de generación del billete ganador para generar las\n",
        "filas. Puede incluso crear una función que lo contenga y devuelva un billete\n",
        "aleatorio cada vez que se le invoca. La reutilización y modificación de código\n",
        "que ya poseemos es un aspecto importante a la hora de preparar un\n",
        "proyecto.<br>\n",
        "\n",
        "Obs 2: Al final de la consigna hay dos ideas comunes para esto. Primero\n",
        "implementar su propia idea y luego leer las sugerencias para ganar una\n",
        "nueva perspectiva.\n"
      ],
      "metadata": {
        "id": "rm4WySV7uFDp"
      }
    },
    {
      "cell_type": "code",
      "source": [
        "participantes = np.random.randint(0,5,size=(10,4))\n",
        "print(participantes)"
      ],
      "metadata": {
        "colab": {
          "base_uri": "https://localhost:8080/"
        },
        "id": "A2Vi300suF3i",
        "outputId": "66e95a58-5adb-4146-e31f-e84f695bbd44"
      },
      "execution_count": null,
      "outputs": [
        {
          "output_type": "stream",
          "name": "stdout",
          "text": [
            "[[3 1 1 2]\n",
            " [2 0 1 0]\n",
            " [3 2 1 0]\n",
            " [1 0 4 2]\n",
            " [0 4 0 0]\n",
            " [0 4 4 4]\n",
            " [4 1 4 2]\n",
            " [4 4 0 4]\n",
            " [1 2 0 1]\n",
            " [4 4 2 2]]\n"
          ]
        }
      ]
    },
    {
      "cell_type": "code",
      "source": [
        "participantes = np.random.randint(0,5,size=4)\n",
        "for ind in range(0,9,1):\n",
        "  boleto = np.random.randint(0,5,size=4)\n",
        "  participantes = np.vstack((participantes, boleto))\n",
        "print(participantes, boleto) #boleto no va"
      ],
      "metadata": {
        "colab": {
          "base_uri": "https://localhost:8080/"
        },
        "id": "9XPzPU_Gv6LC",
        "outputId": "140935fa-da3f-4640-8ac0-78ea65fa3014"
      },
      "execution_count": null,
      "outputs": [
        {
          "output_type": "stream",
          "name": "stdout",
          "text": [
            "[[4 3 2 3]\n",
            " [2 1 0 4]\n",
            " [4 0 3 3]\n",
            " [3 3 2 1]\n",
            " [3 2 4 3]\n",
            " [1 3 2 3]\n",
            " [0 4 4 1]\n",
            " [2 3 1 3]\n",
            " [4 4 2 4]\n",
            " [1 2 1 1]] [1 2 1 1]\n"
          ]
        }
      ]
    },
    {
      "cell_type": "markdown",
      "source": [
        "c. Los ganadores serán aquellos que posean coincidencias del mismo número\n",
        "en la misma posición que el billete ganador. Escribir un código que\n",
        "devuelva un arreglo con la cantidad de coincidencias de cada participante.\n",
        "Ejemplo:\n",
        "\n",
        "```\n",
        "Billete ganador: [3 2 0 5 4 3 1]\n",
        "Billete participante 1: [2 4 1 5 2 3 1] 1 coincidencias.\n",
        "Billete participante 2: [1 5 1 4 3 1 3] 0 coincidencias.\n",
        "Billete participante 2: [4 1 0 5 2 3 0] 3 coincidencias.\n",
        "Arreglo devuelto: [1 0 3]\n",
        "```\n",
        "Obs: La razón de elegir un rango de números aleatorios pequeño en el\n",
        "inciso a es para poder comprobar las coincidencias. Si eligiéramos el rango\n",
        "de [0 ; 99] sería difícil que en esta pequeña prueba tuviéramos muchas\n",
        "coincidencias, sin embargo al elegir un rango más pequeño seguramente\n",
        "podremos comprobar el funcionamiento de nuestro programa. Al verificar que\n",
        "el funcionamiento es correcto podremos simplemente cambiar los parámetros\n",
        "del código para tener rango aleatorio más grande, distinta cantidad de\n",
        "números por billete y cantidad de participantes más grande."
      ],
      "metadata": {
        "id": "z9kkhz5FuGRC"
      }
    },
    {
      "cell_type": "code",
      "source": [
        "print(participantes[0])\n",
        "print(ganador)"
      ],
      "metadata": {
        "colab": {
          "base_uri": "https://localhost:8080/"
        },
        "id": "V58DeP5OuRRX",
        "outputId": "5dd28f5c-47fc-4993-fbe3-4598af9b4d0e"
      },
      "execution_count": null,
      "outputs": [
        {
          "output_type": "stream",
          "name": "stdout",
          "text": [
            "[4 3 2 3]\n",
            "[0 3 3 4]\n"
          ]
        }
      ]
    },
    {
      "cell_type": "code",
      "source": [
        "coin_part = np.where(participantes[0] == ganador) # Coincidencias en formato tupla\n",
        "print(coin_part[0])\n",
        "\n",
        "coin_arr = np.asarray(coin_part)                  # Coincidencias del participante en formato arreglo\n",
        "print(coin_arr[0])\n",
        "\n",
        "aciertos_totales = coin_arr.size\n",
        "print(aciertos_totales)"
      ],
      "metadata": {
        "colab": {
          "base_uri": "https://localhost:8080/"
        },
        "id": "C4v-LB7-uUly",
        "outputId": "d3cc8990-e80a-4762-b2ea-301f4c0a541d"
      },
      "execution_count": null,
      "outputs": [
        {
          "output_type": "stream",
          "name": "stdout",
          "text": [
            "[1]\n",
            "[1]\n"
          ]
        }
      ]
    },
    {
      "cell_type": "code",
      "source": [
        "#repetir lo mismo las 9 veces restantes (10 billetes)"
      ],
      "metadata": {
        "id": "NsHwBA1w0Bwc"
      },
      "execution_count": null,
      "outputs": []
    },
    {
      "cell_type": "code",
      "source": [
        "coin_part = np.where(participantes[0] == ganador)         # Coincidencias del participante en formato tupla\n",
        "coin_arr = np.asarray(coin_part)                          # Coincidencias del participante en formato arreglo\n",
        "aciertos_totales = coin_arr.size\n",
        "\n",
        "for ind in range(1,9,1):\n",
        "  coin_part = np.where(participantes[ind] == ganador)     # Coincidencias del participante en formato tupla\n",
        "  coin_arr = np.asarray(coin_part)                        # Coincidencias del participante en formato arreglo\n",
        "  aciertos_totales = np.vstack((aciertos_totales, coin_arr.size))\n",
        "print(aciertos_totales)"
      ],
      "metadata": {
        "colab": {
          "base_uri": "https://localhost:8080/"
        },
        "id": "fsRQ-Grw0IJ8",
        "outputId": "df1c7221-8d07-4c97-fe48-340a18bf5ca4"
      },
      "execution_count": null,
      "outputs": [
        {
          "output_type": "stream",
          "name": "stdout",
          "text": [
            "[[1]\n",
            " [1]\n",
            " [1]\n",
            " [1]\n",
            " [0]\n",
            " [1]\n",
            " [1]\n",
            " [1]\n",
            " [1]]\n"
          ]
        }
      ]
    },
    {
      "cell_type": "markdown",
      "source": [
        "d. Opcional 1: Luego de tener el programa listo, crear una función que tome\n",
        "como parámetros cantidad de números por billete, rango de números\n",
        "aleatorios, y cantidad de participantes. La función debe devolver por un lado\n",
        "el billete ganador y por otro la matriz con los billetes de los participantes.\n"
      ],
      "metadata": {
        "id": "iW6msy_iuTz-"
      }
    },
    {
      "cell_type": "code",
      "source": [
        "import numpy as np\n",
        "\n",
        "def loteria(numeros_por_billete, rango_aleatorio, cantidad_participantes):\n",
        "  billete_ganador = np.random.randint(0, rango_aleatorio, size=numeros_por_billete)\n",
        "  participantes = np.random.randint(0,rango_aleatorio,size=(cantidad_participantes,numeros_por_billete))\n",
        "\n",
        "  return 'Billete banador: ',billete_ganador, 'Billetes participantes: ',participantes\n",
        "\n",
        "loteria(4, 5, 10)"
      ],
      "metadata": {
        "id": "IDosrLsYXk8a",
        "colab": {
          "base_uri": "https://localhost:8080/"
        },
        "outputId": "d34d25a2-e0f0-4ccd-ddbf-788e8ed67df3"
      },
      "execution_count": null,
      "outputs": [
        {
          "output_type": "execute_result",
          "data": {
            "text/plain": [
              "('Billete banador: ',\n",
              " array([1, 3, 1, 1]),\n",
              " 'Billetes participantes: ',\n",
              " array([[1, 4, 4, 3],\n",
              "        [4, 0, 2, 3],\n",
              "        [3, 2, 4, 2],\n",
              "        [0, 2, 0, 1],\n",
              "        [3, 0, 2, 0],\n",
              "        [1, 2, 3, 0],\n",
              "        [4, 2, 2, 0],\n",
              "        [1, 0, 3, 3],\n",
              "        [3, 1, 3, 0],\n",
              "        [0, 3, 2, 1]]))"
            ]
          },
          "metadata": {},
          "execution_count": 21
        }
      ]
    },
    {
      "cell_type": "markdown",
      "source": [
        "e. Opcional 2: Crear una función que tome como parámetros el billete ganador y\n",
        "la matriz de billetes de participantes, y devuelva el número del participante\n",
        "que tenga el billete ganador (en caso que lo haya), o [-1] si ningún\n",
        "participante ganó. Ejemplo de encabezado:\n",
        "\n",
        "```\n",
        "Comprobar_ganador (billete_ganador, participantes)\n",
        "```\n",
        "**Sugerencia:** Para comprobar, pueden “sembrar” la combinación ganadora,\n",
        "es decir, reemplazar alguna fila de los participantes por la combinación del\n",
        "ticket ganador. De esta forma se aseguran que exista la combinación y la\n",
        "función devuelva un resultado."
      ],
      "metadata": {
        "id": "ot86hbKgua07"
      }
    },
    {
      "cell_type": "code",
      "source": [
        "# coin_part = np.where(participantes[ind] == billete_ganador)     \n",
        "# coin_arr = np.asarray(coin_part)                                \n",
        "# aciertos_totales = coin_arr.size\n",
        "# aciertos_totales = np.vstack((aciertos_totales, coin_arr.size))"
      ],
      "metadata": {
        "id": "D8BwKPwvj6Kg"
      },
      "execution_count": null,
      "outputs": []
    },
    {
      "cell_type": "code",
      "source": [
        "# import numpy as np\n",
        "\n",
        "# def Comprobar_ganador (billete_ganador, participantes):\n",
        "#   for ind in range(0,9,1):\n",
        "#     if participante == billete_ganador:\n",
        "#       return participantes, billete_ganador\n",
        "#     else:\n",
        "#       return [-1]\n",
        "\n",
        "# billete_ganador = np.random.randint(0, 5, size=4)\n",
        "# participantes = np.random.randint(0,5,size=(10,4))\n",
        "# Comprobar_ganador(billete_ganador, participantes)"
      ],
      "metadata": {
        "id": "YYVFOu8tubw7"
      },
      "execution_count": null,
      "outputs": []
    },
    {
      "cell_type": "markdown",
      "source": [
        "# Ejercicio 7\n",
        "En toda comunicación digital los datos viajan en formato binario, es decir, cadenas de unos y ceros. Para poder interpretar esta información los datos se envían en “paquetes”, es decir, grupos de tamaño finito.<br>\n",
        "A continuación se presenta la señal recibida en una comunicación digital. Los\n",
        "paquetes respetan el formato ASCII, por lo tanto cada paquete es de 8 bits (cada 8 números se tiene un carácter).<br>\n",
        "Ejemplo: El paquete ‘01000001’ corresponde al carácter “A”, mientras que el\n",
        "‘010101010’ es el carácter ‘a’. La señal :‘01000001010101010’ es una señal de dos paquetes que contiene el mensaje “Aa”.<br>\n",
        "La comunicación que debe descifrar contiene nueve (9) paquetes de ocho (8) bits\n",
        "cada uno. Separar cada uno de los paquetes y mostrar el mensaje descifrado.\n",
        "Para convertir cada paquete en su carácter ASCII usar la siguiente expresión:\n",
        "```\n",
        "chr(int('010101010',2))\n",
        "```\n",
        "Donde la secuencia insertada entre comillas es la combinación ASCII del carácter.<br>\n",
        "Ejemplo de uso:\n",
        "```\n",
        "x = chr(int('010101010',2))\n",
        "print(x)\n",
        "```\n",
        "Señal a decodificar:\n",
        "```\n",
        "010010000110111101101100011000010100110101110101011011100110010001101111\n",
        "```\n",
        "Tabla de código ASCII básico (de referencia): http://sticksandstones.kstrom.com/appen.htm"
      ],
      "metadata": {
        "id": "xbVLngSua4DX"
      }
    },
    {
      "cell_type": "code",
      "source": [
        "import numpy as np\n",
        "\n",
        "arr = np.array(['010010000110111101101100011000010100110101110101011011100110010001101111'])\n",
        "\n",
        "print(arr[0:8])"
      ],
      "metadata": {
        "colab": {
          "base_uri": "https://localhost:8080/"
        },
        "id": "wkY8U35YPiQH",
        "outputId": "213e92c5-d1e4-421c-b6a4-362062b2faf5"
      },
      "execution_count": null,
      "outputs": [
        {
          "output_type": "stream",
          "name": "stdout",
          "text": [
            "['010010000110111101101100011000010100110101110101011011100110010001101111']\n"
          ]
        }
      ]
    },
    {
      "cell_type": "code",
      "source": [
        "# cadena[inicio:final:saltos]\n",
        "lista = []\n",
        "señal = \"010010000110111101101100011000010100110101110101011011100110010001101111\"\n",
        "\n",
        "pos1 = 0\n",
        "pos2 = 8\n",
        "\n",
        "for num in señal:\n",
        "  lista.append(señal[pos1:pos2])\n",
        "  arr = np.append([ lista ], [])\n",
        "  pos1 += 8\n",
        "  pos2 += 8\n",
        "  if señal[pos1:pos2] == '':\n",
        "    break\n",
        "# print(lista)\n",
        "print(arr)"
      ],
      "metadata": {
        "id": "eeDVeYiJa9xN",
        "colab": {
          "base_uri": "https://localhost:8080/"
        },
        "outputId": "aaf913bd-49a8-44fc-9dbb-2c1c51e85b55"
      },
      "execution_count": null,
      "outputs": [
        {
          "output_type": "stream",
          "name": "stdout",
          "text": [
            "['01001000' '01101111' '01101100' '01100001' '01001101' '01110101'\n",
            " '01101110' '01100100' '01101111']\n"
          ]
        }
      ]
    },
    {
      "cell_type": "code",
      "source": [
        "for paquete in arr:  \n",
        "  x = chr(int(paquete,2))\n",
        "  print(x, end=' ')"
      ],
      "metadata": {
        "colab": {
          "base_uri": "https://localhost:8080/"
        },
        "id": "yCQ-5ljsJDYl",
        "outputId": "08597cb5-3c68-4389-a252-082149105721"
      },
      "execution_count": null,
      "outputs": [
        {
          "output_type": "stream",
          "name": "stdout",
          "text": [
            "H o l a M u n d o "
          ]
        }
      ]
    }
  ],
  "metadata": {
    "kernelspec": {
      "display_name": "Python 3.10.5 64-bit",
      "language": "python",
      "name": "python3"
    },
    "language_info": {
      "codemirror_mode": {
        "name": "ipython",
        "version": 3
      },
      "file_extension": ".py",
      "mimetype": "text/x-python",
      "name": "python",
      "nbconvert_exporter": "python",
      "pygments_lexer": "ipython3",
      "version": "3.10.5"
    },
    "orig_nbformat": 4,
    "vscode": {
      "interpreter": {
        "hash": "26de051ba29f2982a8de78e945f0abaf191376122a1563185a90213a26c5da77"
      }
    },
    "colab": {
      "provenance": [],
      "collapsed_sections": [
        "55shgTL-Uw8r",
        "WLQZX0bpUw8y",
        "azqtwyOe-_4J",
        "dAhdoQ3jSJoH",
        "X6mCoHO7OBuR",
        "JfpfnJ0FteWI",
        "xbVLngSua4DX"
      ],
      "include_colab_link": true
    }
  },
  "nbformat": 4,
  "nbformat_minor": 0
}