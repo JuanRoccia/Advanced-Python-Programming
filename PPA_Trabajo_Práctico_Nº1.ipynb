{
  "nbformat": 4,
  "nbformat_minor": 0,
  "metadata": {
    "colab": {
      "provenance": [],
      "collapsed_sections": [
        "Uak8vsIC648s",
        "Il94_Uv67RpK",
        "K4gPEOrXE8OB",
        "8Xr52GoYLTuD",
        "eWmaaZ3xTRYa",
        "9Gni37u4Tobk",
        "GXvSJ-HEhpf1"
      ],
      "include_colab_link": true
    },
    "kernelspec": {
      "name": "python3",
      "display_name": "Python 3"
    },
    "language_info": {
      "name": "python"
    }
  },
  "cells": [
    {
      "cell_type": "markdown",
      "metadata": {
        "id": "view-in-github",
        "colab_type": "text"
      },
      "source": [
        "<a href=\"https://colab.research.google.com/github/JuanRoccia/Google-Colab/blob/main/PPA_Trabajo_Pr%C3%A1ctico_N%C2%BA1.ipynb\" target=\"_parent\"><img src=\"https://colab.research.google.com/assets/colab-badge.svg\" alt=\"Open In Colab\"/></a>"
      ]
    },
    {
      "cell_type": "markdown",
      "source": [
        "># ***Programación Python Avanzada - Trabajo Práctico Nº1***\n",
        "># ***Introducción - Colab y módulos***\n",
        "---\n",
        "\n"
      ],
      "metadata": {
        "id": "sKA0vRIQ5xiP"
      }
    },
    {
      "cell_type": "markdown",
      "source": [
        "# Ejercicio 1\n",
        ">Crear un notebook en Google Colab y ejecutar los ejercicios detallados a\n",
        "continuación. En la primera celda, como texto escribir el título (#) del práctico. En la\n",
        "celda siguiente, como texto, la descripción de cada ejercicio.\n"
      ],
      "metadata": {
        "id": "Uak8vsIC648s"
      }
    },
    {
      "cell_type": "code",
      "execution_count": null,
      "metadata": {
        "id": "mv2B2GFx5W5U"
      },
      "outputs": [],
      "source": []
    },
    {
      "cell_type": "markdown",
      "source": [
        "# Ejercicio 2\n",
        ">Crear el módulo operaciones.py que contendrá 4 funciones: para realizar una suma,\n",
        "una resta, una multiplicación y una división entres dos números. Todas ellas\n",
        "devolverán el resultado."
      ],
      "metadata": {
        "id": "Il94_Uv67RpK"
      }
    },
    {
      "cell_type": "code",
      "source": [
        "# Suma\n",
        "def suma(a,b):\n",
        "  return a + b\n",
        "suma(5,5)"
      ],
      "metadata": {
        "colab": {
          "base_uri": "https://localhost:8080/"
        },
        "id": "7cxuE-y7_EIT",
        "outputId": "c87bbfef-660b-4d52-8695-1269d53ec089"
      },
      "execution_count": null,
      "outputs": [
        {
          "output_type": "stream",
          "name": "stdout",
          "text": [
            "10\n"
          ]
        }
      ]
    },
    {
      "cell_type": "code",
      "source": [
        "# Resta\n",
        "def resta(a,b):\n",
        "  return a - b\n",
        "resta(5,5)"
      ],
      "metadata": {
        "colab": {
          "base_uri": "https://localhost:8080/"
        },
        "id": "MQqmeyhp__6r",
        "outputId": "25181f53-6033-40cd-923f-2a1aed7f1c38"
      },
      "execution_count": null,
      "outputs": [
        {
          "output_type": "execute_result",
          "data": {
            "text/plain": [
              "0"
            ]
          },
          "metadata": {},
          "execution_count": 30
        }
      ]
    },
    {
      "cell_type": "code",
      "source": [
        "# Multiplicación\n",
        "def multi(a,b):\n",
        "  return a * b\n",
        "multi(5,5)"
      ],
      "metadata": {
        "colab": {
          "base_uri": "https://localhost:8080/"
        },
        "id": "jSshK2-RAONL",
        "outputId": "d08ec663-8e65-427a-bbcb-b009eb9ec88f"
      },
      "execution_count": null,
      "outputs": [
        {
          "output_type": "execute_result",
          "data": {
            "text/plain": [
              "25"
            ]
          },
          "metadata": {},
          "execution_count": 31
        }
      ]
    },
    {
      "cell_type": "code",
      "source": [
        "# División\n",
        "def div(a,b):\n",
        "  return a / b\n",
        "div(10,2)"
      ],
      "metadata": {
        "colab": {
          "base_uri": "https://localhost:8080/"
        },
        "id": "TGZ7egykAcTL",
        "outputId": "16e1e158-92a0-4be7-eebb-75e02eef2f40"
      },
      "execution_count": null,
      "outputs": [
        {
          "output_type": "execute_result",
          "data": {
            "text/plain": [
              "5.0"
            ]
          },
          "metadata": {},
          "execution_count": 32
        }
      ]
    },
    {
      "cell_type": "code",
      "source": [
        "%%writefile mimodulo.py\n",
        "def suma(a,b):\n",
        "  return a + b\n",
        "\n",
        "def resta(a,b):\n",
        "  return a - b\n",
        "\n",
        "def multi(a,b):\n",
        "  return a * b\n",
        "\n",
        "def div(a,b):\n",
        "  return a / b"
      ],
      "metadata": {
        "id": "I50famfb7Xtm",
        "colab": {
          "base_uri": "https://localhost:8080/"
        },
        "outputId": "5ce6ee90-8de0-4a80-aaef-6ba8dd2bf2b0"
      },
      "execution_count": null,
      "outputs": [
        {
          "output_type": "stream",
          "name": "stdout",
          "text": [
            "Overwriting mimodulo.py\n"
          ]
        }
      ]
    },
    {
      "cell_type": "code",
      "source": [
        "import mimodulo\n",
        "mimodulo.suma(5,2)\n",
        "mimodulo.resta(5,2)\n",
        "mimodulo.multi(5,2)\n",
        "mimodulo.div(5,2)"
      ],
      "metadata": {
        "colab": {
          "base_uri": "https://localhost:8080/"
        },
        "id": "TMDRrT_dFC3i",
        "outputId": "14c2f031-aa26-4e36-cf9c-813befd07b68"
      },
      "execution_count": null,
      "outputs": [
        {
          "output_type": "execute_result",
          "data": {
            "text/plain": [
              "2.5"
            ]
          },
          "metadata": {},
          "execution_count": 34
        }
      ]
    },
    {
      "cell_type": "code",
      "source": [
        "import mimodulo as mimo\n",
        "mimo.suma(200,254)"
      ],
      "metadata": {
        "colab": {
          "base_uri": "https://localhost:8080/"
        },
        "id": "uKrCjeqVF3MT",
        "outputId": "7633ab8a-d269-443e-908d-91dfe0283973"
      },
      "execution_count": null,
      "outputs": [
        {
          "output_type": "execute_result",
          "data": {
            "text/plain": [
              "454"
            ]
          },
          "metadata": {},
          "execution_count": 35
        }
      ]
    },
    {
      "cell_type": "markdown",
      "source": [
        "# Ejercicio 3\n",
        ">Función CalcularAreaPerimetro: recibe el radio de una circunferencia y devuelve el\n",
        "área y el perímetro. Importe la biblioteca math de python y use la variable math.pi\n",
        "* Parámetros de entrada: radio (real)\n",
        "* Valores de salida: área y perímetro (real)"
      ],
      "metadata": {
        "id": "K4gPEOrXE8OB"
      }
    },
    {
      "cell_type": "code",
      "source": [
        "from math import pi\n",
        "\n",
        "def CalcularAreaPerimetro(radio):\n",
        "  area = pi * radio ** 2\n",
        "  perimetro = 2 * pi * radio\n",
        "  return(f\"{area} y {perimetro}\")\n",
        "CalcularAreaPerimetro(5)"
      ],
      "metadata": {
        "colab": {
          "base_uri": "https://localhost:8080/",
          "height": 36
        },
        "id": "x-uljQ9aFAgk",
        "outputId": "a5681e07-3593-4664-c608-4a5b68a5a1d7"
      },
      "execution_count": null,
      "outputs": [
        {
          "output_type": "execute_result",
          "data": {
            "text/plain": [
              "'78.53981633974483 y 31.41592653589793'"
            ],
            "application/vnd.google.colaboratory.intrinsic+json": {
              "type": "string"
            }
          },
          "metadata": {},
          "execution_count": 1
        }
      ]
    },
    {
      "cell_type": "markdown",
      "source": [
        "# Ejercicio 4\n",
        ">Diseñar una función que calcule el área y el perímetro de una circunferencia. Utiliza\n",
        "dicha función en un programa principal que lea el radio de una circunferencia y\n",
        "muestre su área y perímetro.\n"
      ],
      "metadata": {
        "id": "8Xr52GoYLTuD"
      }
    },
    {
      "cell_type": "code",
      "source": [
        "# longitud del circulo / 2 = radio\n",
        "print(\"Ingrese el valor del radio: \")\n",
        "radio = float(input())\n",
        "print(f\"El área es {CalcularAreaPerimetro(radio)} es el perímetro.\")"
      ],
      "metadata": {
        "colab": {
          "base_uri": "https://localhost:8080/"
        },
        "id": "BT5ew49sLYeq",
        "outputId": "184cca5e-7789-4deb-f4e8-5d7ae18009fd"
      },
      "execution_count": null,
      "outputs": [
        {
          "output_type": "stream",
          "name": "stdout",
          "text": [
            "Ingrese el valor del radio: \n",
            "4\n",
            "El área es 50.26548245743669 y 25.132741228718345 es el perímetro.\n"
          ]
        }
      ]
    },
    {
      "cell_type": "markdown",
      "source": [
        "# Ejercicio 5\n",
        ">Función Login: Recibe un nombre de usuario y una contraseña, y devuelve un valor\n",
        "lógico: verdadero si se ha introducido el nombre y la contraseña adecuadas. Además\n",
        "devuelve el número de internos\n",
        "* Parámetros de entrada: nombre y contraseña, y el número de intentos actual\n",
        "* Datos devueltos: Valor lógico indicando si ha hecho login, e intentos"
      ],
      "metadata": {
        "id": "eWmaaZ3xTRYa"
      }
    },
    {
      "cell_type": "code",
      "source": [
        "def login(usuario,contraseña,intentos):\n",
        "  if usuario == \"Juanroccia\" and contraseña == \"123456\":\n",
        "    return True\n",
        "  if usuario != \"Juanroccia\" or contraseña != \"123456\":\n",
        "    intentos - 1\n",
        "    return (f\"Incorrecto, intento N°{intentos}\")\n",
        "login(\"Juanroccia\",\"123456\",1)"
      ],
      "metadata": {
        "colab": {
          "base_uri": "https://localhost:8080/"
        },
        "id": "uMqHQ7woSk_9",
        "outputId": "8c92761e-46d7-42b9-fc33-0c923118d655"
      },
      "execution_count": null,
      "outputs": [
        {
          "output_type": "execute_result",
          "data": {
            "text/plain": [
              "True"
            ]
          },
          "metadata": {},
          "execution_count": 114
        }
      ]
    },
    {
      "cell_type": "code",
      "source": [
        "def login():\n",
        "  tries = 3\n",
        "  while True:\n",
        "    username = input(\"Usuario: \")\n",
        "    password = input(\"Contraseña: \")\n",
        "\n",
        "    if username != \"Juanroccia\" or password != \"123456\":\n",
        "      tries -= 1\n",
        "      print(f\"Quedan {tries} intentos.\")\n",
        "\n",
        "    if tries == 0:\n",
        "      print(\"Cuenta bloqueada.\")\n",
        "      break\n",
        "\n",
        "    if username == \"Juanroccia\" and password == \"123456\":\n",
        "      print(True)\n",
        "      break"
      ],
      "metadata": {
        "id": "479HkTQxTYQE"
      },
      "execution_count": null,
      "outputs": []
    },
    {
      "cell_type": "code",
      "source": [
        "login()"
      ],
      "metadata": {
        "colab": {
          "base_uri": "https://localhost:8080/"
        },
        "id": "8xKOlgMg5KiN",
        "outputId": "2769c88e-a3f5-4083-aed6-13c316a4eac7"
      },
      "execution_count": null,
      "outputs": [
        {
          "output_type": "stream",
          "name": "stdout",
          "text": [
            "Usuario: asd\n",
            "Contraseña: asd\n",
            "Quedan 2 intentos.\n",
            "Usuario: Juanroccia\n",
            "Contraseña: 123456\n",
            "True\n"
          ]
        }
      ]
    },
    {
      "cell_type": "markdown",
      "source": [
        "# Ejercicio 6\n",
        "> Crear una subrutina llamada \"Login\", que recibe un nombre de usuario y una\n",
        "contraseña y te devuelve Verdadero si el nombre de usuario es \"usuario1\" y la\n",
        "contraseña es \"asdasd\". Además recibe el número de intentos que se ha intentado\n",
        "hacer login y si no se ha podido hacer login incremente este valor. Crear un\n",
        "programa principal donde se pida un nombre de usuario y una contraseña y se\n",
        "intente hacer login, solamente tenemos tres oportunidades para intentarlo.\n"
      ],
      "metadata": {
        "id": "9Gni37u4Tobk"
      }
    },
    {
      "cell_type": "code",
      "source": [
        "def login():\n",
        "  tries = 0\n",
        "  while True:\n",
        "    username = input(\"Usuario: \")\n",
        "    password = input(\"Contraseña: \")\n",
        "\n",
        "    if username != \"usuario1\" or password != \"asdasd\":\n",
        "      tries += 1\n",
        "      print(f\"Intentos: {tries}\")\n",
        "\n",
        "    if tries == 3:\n",
        "      print(\"Cuenta bloqueada.\")\n",
        "      break\n",
        "\n",
        "    if username == \"usuario1\" and password == \"asdasd\":\n",
        "      print(\"Verdadero.\")\n",
        "      break\n",
        "login()"
      ],
      "metadata": {
        "colab": {
          "base_uri": "https://localhost:8080/"
        },
        "id": "ZzxhPHALUKnr",
        "outputId": "5fa2d0ac-726f-453f-de50-38f0cfff032c"
      },
      "execution_count": null,
      "outputs": [
        {
          "output_type": "stream",
          "name": "stdout",
          "text": [
            "Usuario: usuario1\n",
            "Contraseña: asdasd\n",
            "Verdadero.\n"
          ]
        }
      ]
    },
    {
      "cell_type": "markdown",
      "source": [
        "# Ejercicio 7\n",
        "> Crear y guardar un archivo de texto en Colab llamado lista_compras.txt con un\n",
        "producto = cantidad en cada fila (ejemplo: “leche=3”).\n",
        "Abrir el archivo de texto en Colab y leer cada fila, separar cada fila en elemento y\n",
        "cantidad.\n",
        "* Respuesta de la ejecución:\n",
        "-------------------\n",
        "Elemento: ____\n",
        "Cantidad: ____"
      ],
      "metadata": {
        "id": "SfeZKrQRVsTO"
      }
    },
    {
      "cell_type": "code",
      "source": [
        "with open('lista_compras.txt','a') as file:\n",
        "  file.write(\"\"\"  Elemento: leche       Cantidad: 3\n",
        "  Elemento: galletitas  Cantidad: 2\n",
        "  Elemento: fideos      Cantidad: 4\n",
        "  Elemento: arroz       Cantidad: 2\n",
        "  \"\"\")"
      ],
      "metadata": {
        "id": "pfCrr7SdVzAX"
      },
      "execution_count": null,
      "outputs": []
    },
    {
      "cell_type": "code",
      "source": [
        "  file = open('lista_compras.txt','r')\n",
        "  leer = file.read()\n",
        "  file.close()\n",
        "  print(leer)"
      ],
      "metadata": {
        "colab": {
          "base_uri": "https://localhost:8080/"
        },
        "id": "w7ecL1l6hUMf",
        "outputId": "ba3b290c-0676-49ea-dc6e-0b68a9a90f93"
      },
      "execution_count": null,
      "outputs": [
        {
          "output_type": "stream",
          "name": "stdout",
          "text": [
            "  Elemento: leche       Cantidad: 3\n",
            "  Elemento: galletitas  Cantidad: 2\n",
            "  Elemento: fideos      Cantidad: 4\n",
            "  Elemento: arroz       Cantidad: 2\n",
            "  \n"
          ]
        }
      ]
    },
    {
      "cell_type": "markdown",
      "source": [
        "# Ejercicio 8\n",
        "> Pedirle al usuario que ingrese un elemento, y una cantidad. Luego agregarle al\n",
        "archivo de texto del inciso anterior, una línea nueva con un elemento y su respectiva\n",
        "cantidad, en el formato correcto."
      ],
      "metadata": {
        "id": "GXvSJ-HEhpf1"
      }
    },
    {
      "cell_type": "code",
      "source": [
        "elemento = input(\"Ingresar producto: \")\n",
        "cantidad = input(\"Ingresar cantidad: \")\n",
        "\n",
        "file = open('lista_compras.txt','a')\n",
        "file.write(f\"\"\"Elemento: {elemento}     Cantidad: {cantidad}\n",
        "\"\"\")"
      ],
      "metadata": {
        "colab": {
          "base_uri": "https://localhost:8080/"
        },
        "id": "wFnQsxIQhuMl",
        "outputId": "df25e9a8-7c8e-4b49-ae73-1cb43187a3c9"
      },
      "execution_count": null,
      "outputs": [
        {
          "name": "stdout",
          "output_type": "stream",
          "text": [
            "Ingresar producto: manteca\n",
            "Ingresar cantidad: 1\n"
          ]
        },
        {
          "output_type": "execute_result",
          "data": {
            "text/plain": [
              "34"
            ]
          },
          "metadata": {},
          "execution_count": 173
        }
      ]
    },
    {
      "cell_type": "code",
      "source": [
        "file = open('lista_compras.txt','r')\n",
        "leer = file.read()\n",
        "print(leer)"
      ],
      "metadata": {
        "colab": {
          "base_uri": "https://localhost:8080/"
        },
        "id": "AzVeGdDciorj",
        "outputId": "3d7a0646-0264-471c-9029-54885e6a0a78"
      },
      "execution_count": null,
      "outputs": [
        {
          "output_type": "stream",
          "name": "stdout",
          "text": [
            "  Elemento: leche       Cantidad: 3\n",
            "  Elemento: galletitas  Cantidad: 2\n",
            "  Elemento: fideos      Cantidad: 4\n",
            "  Elemento: arroz       Cantidad: 2\n",
            "  Elemento: manteca     Cantidad: 1\n",
            "\n"
          ]
        }
      ]
    }
  ]
}