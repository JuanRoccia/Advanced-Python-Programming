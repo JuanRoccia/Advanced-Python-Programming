{
  "nbformat": 4,
  "nbformat_minor": 0,
  "metadata": {
    "colab": {
      "provenance": [],
      "collapsed_sections": [
        "8POm92_HZElV",
        "l8IYsT99YhFm",
        "ZpzWcEtTYbdv",
        "c7FURaMljdg3",
        "zeW4tWM1lnMA",
        "KPVnlMs8cQ-O",
        "D11CZqXujhMg",
        "LhlBzk4gmWVh",
        "N6ZllfbvU0n5",
        "JtZ-PwztVAV5",
        "NAagEKT3beBZ",
        "-C3IjHM2Xt9y",
        "yu7DnsJq0mOB",
        "vE5VLZbAH8fI",
        "OgyXI8XZIELP",
        "_ZJKMjPvvvR4",
        "qQOHXjncFrLt"
      ],
      "authorship_tag": "ABX9TyPYHCVnwgOVdu5Gmt9KSpdq",
      "include_colab_link": true
    },
    "kernelspec": {
      "name": "python3",
      "display_name": "Python 3"
    },
    "language_info": {
      "name": "python"
    }
  },
  "cells": [
    {
      "cell_type": "markdown",
      "metadata": {
        "id": "view-in-github",
        "colab_type": "text"
      },
      "source": [
        "<a href=\"https://colab.research.google.com/github/JuanRoccia/Google-Colab/blob/main/TP5_Funciones.ipynb\" target=\"_parent\"><img src=\"https://colab.research.google.com/assets/colab-badge.svg\" alt=\"Open In Colab\"/></a>"
      ]
    },
    {
      "cell_type": "markdown",
      "source": [
        "# ***Trabajo Práctico 5: Funciones***\n",
        "\n",
        "---\n",
        "\n"
      ],
      "metadata": {
        "id": "F09BEWUoA6hB"
      }
    },
    {
      "cell_type": "markdown",
      "source": [
        "# ***Ejercicio 1***"
      ],
      "metadata": {
        "id": "8POm92_HZElV"
      }
    },
    {
      "cell_type": "markdown",
      "source": [
        "## **Menu**\n",
        "1. Diseñar una funcion que me muestre un menu.\n",
        "2. Si no se ingresa un numero del 1 al 5 debe mostrar un mensaje de error y volver a mostrar el menu."
      ],
      "metadata": {
        "id": "l8IYsT99YhFm"
      }
    },
    {
      "cell_type": "code",
      "source": [
        "# 1 Menu:\n",
        "\n",
        "# De esta forma puedo usar mas adelata la variable 'opcion\n",
        "# con la identacion correpondiente para los condicionales\n",
        "\n",
        "print('''\\033[92m\n",
        " ─────────────────────────────────────────────────────────────────────────\n",
        "|╔═════════════════════════════════════════════════════════════════════════╗\n",
        "│║=========================================================================║\n",
        "│║=========================================================================║\n",
        "│║==========\\033[99m█▀▄▀█ █   █▀▀ █▀▀ █▄░█ █ ▄▀█ █░░   █▀▄▀█ █▀▀ █▄░█ █░█\\033[0m\\033[92m==========║\n",
        "│║==========\\033[97m█░▀░█ █   █▄█ ██▄ █░▀█ █ █▀█ █▄▄   █░▀░█ ██▄ █░▀█ █▄█\\033[\\033[92m==========║\n",
        "│║=========================================================================║\n",
        "│║=========================================================================║\n",
        "│║                  \\033[92m[1] Hacer el histograma en vertical                    ║ \n",
        "│║                                                                         ║ \n",
        "│║                  [2] Hacer el histograma en horizontal                  ║\n",
        "│║                                                                         ║\n",
        "│║                  [3] Ordenar de mayor a menor                           ║\n",
        "│║                                                                         ║\n",
        "│║                  [4] Ordenar de menor a mayor                           ║\n",
        "│║                                                                         ║ \n",
        "│║                  [5] Salir \\033[0m\\033[92m                                             ║ \n",
        "│║=========================================================================║\n",
        "│║===============================> Ingrese número para seleccionar opción: ║\n",
        " ╚═════════════════════════════════════════════════════════════════════════╝\n",
        "''')\n",
        "\n",
        "a = ['1','2','3','4','5']\n",
        "opcion = input('                                    =====> ')\n",
        "while opcion not in a:\n",
        "  print('Opción incorrecta.')\n",
        "  menu()\n",
        "  break\n",
        "\n",
        "# Funcion menu:\n",
        "\n",
        "# Y con esta funcion puedo volver a llamar al menu cuando sea necesario\n",
        "# sin tener que volver a pegar todo esto. \n",
        "# Solo por esta vez seria necesario que esten los dos\n",
        "\n",
        "def menu():\n",
        "  print('''\\033[92m\n",
        " ─────────────────────────────────────────────────────────────────────────\n",
        "|╔═════════════════════════════════════════════════════════════════════════╗\n",
        "│║=========================================================================║\n",
        "│║=========================================================================║\n",
        "│║==========\\033[99m█▀▄▀█ █   █▀▀ █▀▀ █▄░█ █ ▄▀█ █░░   █▀▄▀█ █▀▀ █▄░█ █░█\\033[0m\\033[92m==========║\n",
        "│║==========\\033[97m█░▀░█ █   █▄█ ██▄ █░▀█ █ █▀█ █▄▄   █░▀░█ ██▄ █░▀█ █▄█\\033[\\033[92m==========║\n",
        "│║=========================================================================║\n",
        "│║=========================================================================║\n",
        "│║                  \\033[92m[1] Hacer el histograma en vertical                    ║ \n",
        "│║                                                                         ║ \n",
        "│║                  [2] Hacer el histograma en horizontal                  ║\n",
        "│║                                                                         ║\n",
        "│║                  [3] Ordenar de mayor a menor                           ║\n",
        "│║                                                                         ║\n",
        "│║                  [4] Ordenar de menor a mayor                           ║\n",
        "│║                                                                         ║ \n",
        "│║                  [5] Salir \\033[0m\\033[92m                                             ║ \n",
        "│║=========================================================================║\n",
        "│║===============================> Ingrese número para seleccionar opción: ║\n",
        " ╚═════════════════════════════════════════════════════════════════════════╝\n",
        "''')\n",
        "  \n",
        "# 2 Mensaje de error:\n",
        "\n",
        "  a = ['1','2','3','4','5']\n",
        "  opcion = input('                                    =====> ')\n",
        "  while opcion not in a:\n",
        "    print('Opción incorrecta.')\n",
        "    menu()\n",
        "    break\n",
        "\n",
        "# 3 Funcion: menu()   "
      ],
      "metadata": {
        "colab": {
          "base_uri": "https://localhost:8080/"
        },
        "id": "5FrDu5rMsA8E",
        "outputId": "f1783739-3fe3-42d6-a155-cd2e9e624021"
      },
      "execution_count": null,
      "outputs": [
        {
          "name": "stdout",
          "output_type": "stream",
          "text": [
            "\u001b[92m\n",
            " ─────────────────────────────────────────────────────────────────────────\n",
            "|╔═════════════════════════════════════════════════════════════════════════╗\n",
            "│║=========================================================================║\n",
            "│║=========================================================================║\n",
            "│║==========\u001b[99m█▀▄▀█ █   █▀▀ █▀▀ █▄░█ █ ▄▀█ █░░   █▀▄▀█ █▀▀ █▄░█ █░█\u001b[0m\u001b[92m==========║\n",
            "│║==========\u001b[97m█░▀░█ █   █▄█ ██▄ █░▀█ █ █▀█ █▄▄   █░▀░█ ██▄ █░▀█ █▄█\u001b[\u001b[92m==========║\n",
            "│║=========================================================================║\n",
            "│║=========================================================================║\n",
            "│║                  \u001b[92m[1] Hacer el histograma en vertical                    ║ \n",
            "│║                                                                         ║ \n",
            "│║                  [2] Hacer el histograma en horizontal                  ║\n",
            "│║                                                                         ║\n",
            "│║                  [3] Ordenar de mayor a menor                           ║\n",
            "│║                                                                         ║\n",
            "│║                  [4] Ordenar de menor a mayor                           ║\n",
            "│║                                                                         ║ \n",
            "│║                  [5] Salir \u001b[0m\u001b[92m                                             ║ \n",
            "│║=========================================================================║\n",
            "│║===============================> Ingrese número para seleccionar opción: ║\n",
            " ╚═════════════════════════════════════════════════════════════════════════╝\n",
            "\n",
            "                                    =====> 1\n"
          ]
        }
      ]
    },
    {
      "cell_type": "markdown",
      "source": [
        "### ***Pruebas de menues con diseños ASCII***\n",
        "\n"
      ],
      "metadata": {
        "id": "ZpzWcEtTYbdv"
      }
    },
    {
      "cell_type": "code",
      "source": [
        "# SGR color constants\n",
        "# rene-d 2018\n",
        "\n",
        "# class Colors:\n",
        "#     \"\"\" ANSI color codes \"\"\"\n",
        "#     BLACK = \"\\033[0;30m\"\n",
        "#     RED = \"\\033[0;31m\"\n",
        "#     GREEN = \"\\033[0;32m\"\n",
        "#     BROWN = \"\\033[0;33m\"\n",
        "#     BLUE = \"\\033[0;34m\"\n",
        "#     PURPLE = \"\\033[0;35m\"\n",
        "#     CYAN = \"\\033[0;36m\"\n",
        "#     LIGHT_GRAY = \"\\033[0;37m\"\n",
        "#     DARK_GRAY = \"\\033[1;30m\"\n",
        "#     LIGHT_RED = \"\\033[1;31m\"\n",
        "#     LIGHT_GREEN = \"\\033[1;32m\"\n",
        "#     YELLOW = \"\\033[1;33m\"\n",
        "#     LIGHT_BLUE = \"\\033[1;34m\"\n",
        "#     LIGHT_PURPLE = \"\\033[1;35m\"\n",
        "#     LIGHT_CYAN = \"\\033[1;36m\"\n",
        "#     LIGHT_WHITE = \"\\033[1;37m\"\n",
        "#     BOLD = \"\\033[1m\"\n",
        "#     FAINT = \"\\033[2m\"\n",
        "#     ITALIC = \"\\033[3m\"\n",
        "#     UNDERLINE = \"\\033[4m\"\n",
        "#     BLINK = \"\\033[5m\"\n",
        "#     NEGATIVE = \"\\033[7m\"\n",
        "#     CROSSED = \"\\033[9m\"\n",
        "#     END = \"\\033[0m\""
      ],
      "metadata": {
        "id": "YNYkznmyoBe5"
      },
      "execution_count": null,
      "outputs": []
    },
    {
      "cell_type": "code",
      "source": [
        "# print('''  \n",
        "\n",
        "# \\033[1;34m███╗░░░███╗██╗  ░██████╗░███████╗███╗░░██╗██╗░█████╗░██╗░░░░░  ███╗░░░███╗███████╗███╗░░██╗██╗░░░██╗\n",
        "# \\033[0;34m████╗░████║██║  ██╔════╝░██╔════╝████╗░██║██║██╔══██╗██║░░░░░  ████╗░████║██╔════╝████╗░██║██║░░░██║\n",
        "# \\033[0;36m██╔████╔██║██║  ██║░░██╗░█████╗░░██╔██╗██║██║███████║██║░░░░░  ██╔████╔██║█████╗░░██╔██╗██║██║░░░██║\n",
        "# \\033[1;36m██║╚██╔╝██║██║  ██║░░╚██╗██╔══╝░░██║╚████║██║██╔══██║██║░░░░░  ██║╚██╔╝██║██╔══╝░░██║╚████║██║░░░██║\n",
        "# \\033[1;34m██║░╚═╝░██║██║  ╚██████╔╝███████╗██║░╚███║██║██║░░██║███████╗  ██║░╚═╝░██║███████╗██║░╚███║╚██████╔╝\n",
        "# ╚═╝░░░░░╚═╝╚═╝  ░╚═════╝░╚══════╝╚═╝░░╚══╝╚═╝╚═╝░░╚═╝╚══════╝  ╚═╝░░░░░╚═╝╚══════╝╚═╝░░╚══╝░╚═════╝░\\033[1;34m\n",
        "\n",
        "# [1] Hacer el histograma en vertical                    \n",
        "                                                                         \n",
        "# [2] Hacer el histograma en horizontal                  \n",
        "                                                                         \n",
        "# [3] Ordenar de mayor a menor                           \n",
        "                                                                         \n",
        "# [4] Ordenar de menor a mayor                     \n",
        "                                                                          \n",
        "# [5] Salir                                               \n",
        "\n",
        "# ''') \n",
        "\n",
        "# Una flasheada con ASCII\n",
        "\n",
        "# alt 186 = ║\n",
        "\n",
        "# alt 124 = |\n",
        "\n",
        "# alt 196 = ─\n",
        "          # │\n",
        "# alt 179 = │\n",
        "\n",
        "# COLORES:\n",
        "# rojo = '\\033[91m'\n",
        "# verde = '\\033[32m'\n",
        "# aviso = '\\033[93m'fin = '\\033[0m'\n",
        "\n",
        "# OK = '\\033[92m' #GREEN\n",
        "# WARNING = '\\033[93m' #YELLOW\n",
        "# FAIL = '\\033[91m' #RED\n",
        "# RESET = '\\033[0m' #RESET COLOR"
      ],
      "metadata": {
        "colab": {
          "base_uri": "https://localhost:8080/"
        },
        "id": "YR8Nx42Xl_yq",
        "outputId": "84d77a10-f9f3-4be9-a497-3159d08644ab"
      },
      "execution_count": null,
      "outputs": [
        {
          "output_type": "stream",
          "name": "stdout",
          "text": [
            "  \n",
            "\n",
            "\u001b[1;34m███╗░░░███╗██╗  ░██████╗░███████╗███╗░░██╗██╗░█████╗░██╗░░░░░  ███╗░░░███╗███████╗███╗░░██╗██╗░░░██╗\n",
            "\u001b[0;34m████╗░████║██║  ██╔════╝░██╔════╝████╗░██║██║██╔══██╗██║░░░░░  ████╗░████║██╔════╝████╗░██║██║░░░██║\n",
            "\u001b[0;36m██╔████╔██║██║  ██║░░██╗░█████╗░░██╔██╗██║██║███████║██║░░░░░  ██╔████╔██║█████╗░░██╔██╗██║██║░░░██║\n",
            "\u001b[1;36m██║╚██╔╝██║██║  ██║░░╚██╗██╔══╝░░██║╚████║██║██╔══██║██║░░░░░  ██║╚██╔╝██║██╔══╝░░██║╚████║██║░░░██║\n",
            "\u001b[1;34m██║░╚═╝░██║██║  ╚██████╔╝███████╗██║░╚███║██║██║░░██║███████╗  ██║░╚═╝░██║███████╗██║░╚███║╚██████╔╝\n",
            "╚═╝░░░░░╚═╝╚═╝  ░╚═════╝░╚══════╝╚═╝░░╚══╝╚═╝╚═╝░░╚═╝╚══════╝  ╚═╝░░░░░╚═╝╚══════╝╚═╝░░╚══╝░╚═════╝░\u001b[1;34m\n",
            "\n",
            "[1] Hacer el histograma en vertical                    \n",
            "                                                                         \n",
            "[2] Hacer el histograma en horizontal                  \n",
            "                                                                         \n",
            "[3] Ordenar de mayor a menor                           \n",
            "                                                                         \n",
            "[4] Ordenar de menor a mayor                     \n",
            "                                                                          \n",
            "[5] Salir                                               \n",
            "\n",
            "\n"
          ]
        }
      ]
    },
    {
      "cell_type": "markdown",
      "source": [
        "##**Opcion [1]**\n",
        "\n",
        "Teniendo en cuena la lista = [9,8,7,9,6,1,3,1,6,0,5,5,8,7,2]\n",
        "\n",
        "3. Debe mostrar un histograma en vertical para cada una de las celdas."
      ],
      "metadata": {
        "id": "c7FURaMljdg3"
      }
    },
    {
      "cell_type": "code",
      "source": [
        "def histograma_vertical():\n",
        "  \n",
        "  lista = [9,8,7,9,6,1,3,1,6,0,5,5,8,7,2]\n",
        "  maximum = max(lista)\n",
        "  for fila in range(1,maximum + 1):\n",
        "    for columna in lista:\n",
        "      if columna >= fila:\n",
        "        print('█',end=' ')\n",
        "      else:\n",
        "        print(' ',end=' ')\n",
        "    print(fila)\n",
        "\n",
        "histograma_vertical()"
      ],
      "metadata": {
        "id": "STvq5cbdf9ap",
        "colab": {
          "base_uri": "https://localhost:8080/"
        },
        "outputId": "804337b5-0405-460f-c7f9-fd7d77d6a02e"
      },
      "execution_count": null,
      "outputs": [
        {
          "output_type": "stream",
          "name": "stdout",
          "text": [
            "█ █ █ █ █ █ █ █ █   █ █ █ █ █ 1\n",
            "█ █ █ █ █   █   █   █ █ █ █ █ 2\n",
            "█ █ █ █ █   █   █   █ █ █ █   3\n",
            "█ █ █ █ █       █   █ █ █ █   4\n",
            "█ █ █ █ █       █   █ █ █ █   5\n",
            "█ █ █ █ █       █       █ █   6\n",
            "█ █ █ █                 █ █   7\n",
            "█ █   █                 █     8\n",
            "█     █                       9\n"
          ]
        }
      ]
    },
    {
      "cell_type": "code",
      "source": [
        "# lista = [9,8,7,9,6,1,3,1,6,0,5,5,8,7,2]\n",
        "# maximum = max(lista)\n",
        "# for fila in range(1,maximum + 1):\n",
        "#   for columna in lista:\n",
        "#     if columna >= fila:\n",
        "#       print('█',end=' ')\n",
        "#     else:\n",
        "#       print(' ',end=' ')\n",
        "#   print('')       "
      ],
      "metadata": {
        "colab": {
          "base_uri": "https://localhost:8080/"
        },
        "id": "11d-znAhfiFY",
        "outputId": "11e75011-cb8a-42b1-b17a-cfc12416e7ba"
      },
      "execution_count": null,
      "outputs": [
        {
          "output_type": "stream",
          "name": "stdout",
          "text": [
            "█ █ █ █ █ █ █ █ █   █ █ █ █ █ \n",
            "█ █ █ █ █   █   █   █ █ █ █ █ \n",
            "█ █ █ █ █   █   █   █ █ █ █   \n",
            "█ █ █ █ █       █   █ █ █ █   \n",
            "█ █ █ █ █       █   █ █ █ █   \n",
            "█ █ █ █ █       █       █ █   \n",
            "█ █ █ █                 █ █   \n",
            "█ █   █                 █     \n",
            "█     █                       \n"
          ]
        }
      ]
    },
    {
      "cell_type": "markdown",
      "source": [
        "### *Carlos codigo matriz*"
      ],
      "metadata": {
        "id": "zeW4tWM1lnMA"
      }
    },
    {
      "cell_type": "code",
      "source": [
        "# Carlos Power Point:\n",
        "\n",
        "# listaCarlos = [4, 8, 3, 1, 5] #tengo que recorrer las filas, con 4 voy a tener * en 1\n",
        "#                        # en 2, 3 y 4 y así hasta recorrerla completamente\n",
        "# maximo = max(lista)\n",
        "\n",
        "# for fila in range(1, maximo+1):\n",
        "#     for columna in listaCarlos:\n",
        "#         if columna >= fila:\n",
        "#           print(\"*\",end=\" \")    #poner asterisco\n",
        "#         else:\n",
        "#           print(\" \",end=\" \")    #poner nada\n",
        "#     print(\"\")"
      ],
      "metadata": {
        "colab": {
          "base_uri": "https://localhost:8080/"
        },
        "id": "jB95S_O6lYnB",
        "outputId": "a1b579cb-4fde-47d7-befb-369c3ebbde32"
      },
      "execution_count": null,
      "outputs": [
        {
          "output_type": "stream",
          "name": "stdout",
          "text": [
            "* * * * * \n",
            "* * *   * \n",
            "* * *   * \n",
            "* *     * \n",
            "  *     * \n",
            "  *       \n",
            "  *       \n",
            "  *       \n"
          ]
        }
      ]
    },
    {
      "cell_type": "markdown",
      "source": [
        "##**Opcion [2]**\n",
        "\n",
        "4. Debe mostrar un histograma en horizontal."
      ],
      "metadata": {
        "id": "KPVnlMs8cQ-O"
      }
    },
    {
      "cell_type": "code",
      "source": [
        "# La mas simple:\n",
        "\n",
        "def histograma_horizontal():\n",
        "  \n",
        "  lista = [9,8,7,9,6,1,3,1,6,0,5,5,8,7,2]\n",
        "  for a in lista:\n",
        "    print(a * '▄')\n",
        "\n",
        "histograma_horizontal()"
      ],
      "metadata": {
        "id": "XuY6yMA7sK3-",
        "colab": {
          "base_uri": "https://localhost:8080/"
        },
        "outputId": "0e34c5e7-25b0-4e31-a5fb-eeeaae123868"
      },
      "execution_count": null,
      "outputs": [
        {
          "output_type": "stream",
          "name": "stdout",
          "text": [
            "▄▄▄▄▄▄▄▄▄\n",
            "▄▄▄▄▄▄▄▄\n",
            "▄▄▄▄▄▄▄\n",
            "▄▄▄▄▄▄▄▄▄\n",
            "▄▄▄▄▄▄\n",
            "▄\n",
            "▄▄▄\n",
            "▄\n",
            "▄▄▄▄▄▄\n",
            "\n",
            "▄▄▄▄▄\n",
            "▄▄▄▄▄\n",
            "▄▄▄▄▄▄▄▄\n",
            "▄▄▄▄▄▄▄\n",
            "▄▄\n"
          ]
        }
      ]
    },
    {
      "cell_type": "code",
      "source": [
        "# funcion youtube:\n",
        "\n",
        "# def histograma_horizontal(lista, caracter):\n",
        "#   for a in lista:\n",
        "#     print(a * caracter)\n",
        "\n",
        "# histograma_horizontal([3,4,5,6,7,8],'▄')"
      ],
      "metadata": {
        "colab": {
          "base_uri": "https://localhost:8080/"
        },
        "id": "coVpkEaTxKE-",
        "outputId": "baa5c60b-42a3-4d7d-d728-1d99e2cc6a8a"
      },
      "execution_count": null,
      "outputs": [
        {
          "output_type": "stream",
          "name": "stdout",
          "text": [
            "▄▄▄\n",
            "▄▄▄▄\n",
            "▄▄▄▄▄\n",
            "▄▄▄▄▄▄\n",
            "▄▄▄▄▄▄▄\n",
            "▄▄▄▄▄▄▄▄\n"
          ]
        }
      ]
    },
    {
      "cell_type": "markdown",
      "source": [
        "### *Otras opciones [2]*"
      ],
      "metadata": {
        "id": "D11CZqXujhMg"
      }
    },
    {
      "cell_type": "code",
      "source": [
        "# # Otra forma de resolverlo:\n",
        "# lista2 = [9,8,7,9,6,1,3,1,6,0,5,5,8,7,2]\n",
        "# c = 0\n",
        "# for i in lista2:\n",
        "#   if range(lista2[c]) == range(lista2[c]):\n",
        "#     print(lista2[c] * '*')\n",
        "#     c += 1"
      ],
      "metadata": {
        "colab": {
          "base_uri": "https://localhost:8080/"
        },
        "id": "-kwYWis_j3NG",
        "outputId": "654639e7-cf21-4bf0-a2ff-5df576312895"
      },
      "execution_count": null,
      "outputs": [
        {
          "output_type": "stream",
          "name": "stdout",
          "text": [
            "*********\n",
            "********\n",
            "*******\n",
            "*********\n",
            "******\n",
            "*\n",
            "***\n",
            "*\n",
            "******\n",
            "\n",
            "*****\n",
            "*****\n",
            "********\n",
            "*******\n",
            "**\n"
          ]
        }
      ]
    },
    {
      "cell_type": "code",
      "source": [
        "# # Otra mas:\n",
        "\n",
        "# lista3 = [9,8,7,9,6,1,3,1,6,0,5,5,8,7,2]\n",
        "# a = 0\n",
        "# for i in lista3:\n",
        "#   b = lista3[a]\n",
        "#   histograma = b * '*'\n",
        "#   print(histograma)\n",
        "#   a += 1"
      ],
      "metadata": {
        "colab": {
          "base_uri": "https://localhost:8080/"
        },
        "id": "zg3rGLIScaMl",
        "outputId": "cdb1d92c-80bd-43d9-ecf7-ced602451c79"
      },
      "execution_count": null,
      "outputs": [
        {
          "output_type": "stream",
          "name": "stdout",
          "text": [
            "*********\n",
            "********\n",
            "*******\n",
            "*********\n",
            "******\n",
            "*\n",
            "***\n",
            "*\n",
            "******\n",
            "\n",
            "*****\n",
            "*****\n",
            "********\n",
            "*******\n",
            "**\n"
          ]
        }
      ]
    },
    {
      "cell_type": "markdown",
      "source": [
        "## **Opcion [3]**\n",
        "\n",
        "5. Debe ordenar la lista de mayor a menor."
      ],
      "metadata": {
        "id": "LhlBzk4gmWVh"
      }
    },
    {
      "cell_type": "code",
      "source": [
        "def opcion_3():\n",
        "  lista = [9,8,7,9,6,1,3,1,6,0,5,5,8,7,2]\n",
        "  lista.sort()\n",
        "  lista.reverse()\n",
        "  lista_mayor = []\n",
        "  for datos in lista:\n",
        "    lista_mayor.append(datos)\n",
        "  print(f''' \n",
        " ╔═══════════════════════════════════════════════╗\n",
        " ║ {lista_mayor} ║ \n",
        " ╚═══════════════════════════════════════════════╝\n",
        "  ''')\n",
        "  \n",
        "opcion_3()  "
      ],
      "metadata": {
        "colab": {
          "base_uri": "https://localhost:8080/"
        },
        "id": "Kp-oYT-VMHth",
        "outputId": "96c2cc82-9264-4dc0-fedc-2e4d114470ba"
      },
      "execution_count": null,
      "outputs": [
        {
          "output_type": "stream",
          "name": "stdout",
          "text": [
            " \n",
            " ╔═══════════════════════════════════════════════╗\n",
            " ║ [9, 9, 8, 8, 7, 7, 6, 6, 5, 5, 3, 2, 1, 1, 0] ║ \n",
            " ╚═══════════════════════════════════════════════╝\n",
            "  \n"
          ]
        }
      ]
    },
    {
      "cell_type": "markdown",
      "source": [
        "## **Opcion [4]**\n",
        "5. Ordenar la lista de menor a mayor."
      ],
      "metadata": {
        "id": "N6ZllfbvU0n5"
      }
    },
    {
      "cell_type": "code",
      "source": [
        "def opcion_4():  \n",
        "  lista = [9,8,7,9,6,1,3,1,6,0,5,5,8,7,2]\n",
        "  lista.sort()\n",
        "  lista_menor = []\n",
        "  for datos in lista:\n",
        "    lista_menor.append(datos)\n",
        "  print(f''' \n",
        " ╔═══════════════════════════════════════════════╗\n",
        " ║ {lista_menor} ║ \n",
        " ╚═══════════════════════════════════════════════╝\n",
        "  ''')\n",
        "  \n",
        "opcion_4()"
      ],
      "metadata": {
        "colab": {
          "base_uri": "https://localhost:8080/"
        },
        "id": "FasylDwOmc5Y",
        "outputId": "f8dc3507-baa1-4fcb-9193-dae77cc6598e"
      },
      "execution_count": null,
      "outputs": [
        {
          "output_type": "stream",
          "name": "stdout",
          "text": [
            " \n",
            " ╔═══════════════════════════════════════════════╗\n",
            " ║ [0, 1, 1, 2, 3, 5, 5, 6, 6, 7, 7, 8, 8, 9, 9] ║ \n",
            " ╚═══════════════════════════════════════════════╝\n",
            "  \n"
          ]
        }
      ]
    },
    {
      "cell_type": "markdown",
      "source": [
        "## **Opcion [5]**\n",
        "6. Esta opcion debe finalizar el programa."
      ],
      "metadata": {
        "id": "JtZ-PwztVAV5"
      }
    },
    {
      "cell_type": "code",
      "source": [
        "# opcion 2\n",
        "def opcion_5():\n",
        "  print('''\n",
        "  ________    _         _         __  __                           __\n",
        " /_  __/ /_  (_)____   (_)____   / /_/ /_  ___     ___  ____  ____/ /\n",
        "  / / / __ \\/ / ___/  / / ___/  / __/ __ \\/ _ \\   / _ \\/ __ \\/ __  / \n",
        " \\033[97m/ / / / / / (__  )  / (__  )  / /_/ / / /  __/  /  __/ / / / /_/ /_ \n",
        "/_/ /_/ /_/_/____/  /_/____/   \\__/_/ /_/\\___/   \\___/_/ /_/\\__,_/(_)\\033[92m\n",
        "=========================================> Ha finalizado el programa.\n",
        "  ''')\n",
        "  while True:\n",
        "    break\n",
        "\n",
        "opcion_5()   "
      ],
      "metadata": {
        "colab": {
          "base_uri": "https://localhost:8080/"
        },
        "id": "mxHzttTzovlS",
        "outputId": "4eac7aee-9f0d-4cf6-a26a-22df18d7a4ea"
      },
      "execution_count": null,
      "outputs": [
        {
          "output_type": "stream",
          "name": "stdout",
          "text": [
            "\n",
            "  ________    _         _         __  __                           __\n",
            " /_  __/ /_  (_)____   (_)____   / /_/ /_  ___     ___  ____  ____/ /\n",
            "  / / / __ \\/ / ___/  / / ___/  / __/ __ \\/ _ \\   / _ \\/ __ \\/ __  / \n",
            " \u001b[97m/ / / / / / (__  )  / (__  )  / /_/ / / /  __/  /  __/ / / / /_/ /_ \n",
            "/_/ /_/ /_/_/____/  /_/____/   \\__/_/ /_/\\___/   \\___/_/ /_/\\__,_/(_)\u001b[92m\n",
            "=========================================> Ha finalizado el programa.\n",
            "  \n"
          ]
        }
      ]
    },
    {
      "cell_type": "markdown",
      "source": [
        "## ***Programa_Completo***\n",
        "7. Hacer una funcion para cada una de las opciones."
      ],
      "metadata": {
        "id": "NAagEKT3beBZ"
      }
    },
    {
      "cell_type": "code",
      "source": [
        "# Funcion del menu: menu() \n",
        "\n",
        "def menu():\n",
        "  print('''\\033[92m\n",
        " ─────────────────────────────────────────────────────────────────────────\n",
        "|╔═════════════════════════════════════════════════════════════════════════╗\n",
        "│║=========================================================================║\n",
        "│║=========================================================================║\n",
        "│║==========\\033[99m█▀▄▀█ █   █▀▀ █▀▀ █▄░█ █ ▄▀█ █░░   █▀▄▀█ █▀▀ █▄░█ █░█\\033[0m\\033[92m==========║\n",
        "│║==========\\033[97m█░▀░█ █   █▄█ ██▄ █░▀█ █ █▀█ █▄▄   █░▀░█ ██▄ █░▀█ █▄█\\033[\\033[92m==========║\n",
        "│║=========================================================================║\n",
        "│║=========================================================================║\n",
        "│║                  \\033[92m[1] Hacer el histograma en vertical                    ║ \n",
        "│║                                                                         ║ \n",
        "│║                  [2] Hacer el histograma en horizontal                  ║\n",
        "│║                                                                         ║\n",
        "│║                  [3] Ordenar de mayor a menor                           ║\n",
        "│║                                                                         ║\n",
        "│║                  [4] Ordenar de menor a mayor                           ║\n",
        "│║                                                                         ║ \n",
        "│║                  [5] Salir \\033[0m\\033[92m                                             ║ \n",
        "│║=========================================================================║\n",
        "│║===============================> Ingrese número para seleccionar opción: ║\n",
        " ╚═════════════════════════════════════════════════════════════════════════╝\n",
        "''')\n",
        "  \n",
        "# 2 Mensaje de error:\n",
        "\n",
        "  a = ['1','2','3','4','5']\n",
        "  opcion = input('                                    =====> ')\n",
        "  while opcion not in a:\n",
        "    print('Opción incorrecta.')\n",
        "    menu()\n",
        "    break\n",
        "\n",
        "print('''\\033[92m\n",
        " ─────────────────────────────────────────────────────────────────────────\n",
        "|╔═════════════════════════════════════════════════════════════════════════╗\n",
        "│║=========================================================================║\n",
        "│║=========================================================================║\n",
        "│║==========\\033[99m█▀▄▀█ █   █▀▀ █▀▀ █▄░█ █ ▄▀█ █░░   █▀▄▀█ █▀▀ █▄░█ █░█\\033[0m\\033[92m==========║\n",
        "│║==========\\033[97m█░▀░█ █   █▄█ ██▄ █░▀█ █ █▀█ █▄▄   █░▀░█ ██▄ █░▀█ █▄█\\033[\\033[92m==========║\n",
        "│║=========================================================================║\n",
        "│║=========================================================================║\n",
        "│║                  \\033[92m[1] Hacer el histograma en vertical                    ║ \n",
        "│║                                                                         ║ \n",
        "│║                  [2] Hacer el histograma en horizontal                  ║\n",
        "│║                                                                         ║\n",
        "│║                  [3] Ordenar de mayor a menor                           ║\n",
        "│║                                                                         ║\n",
        "│║                  [4] Ordenar de menor a mayor                           ║\n",
        "│║                                                                         ║ \n",
        "│║                  [5] Salir \\033[0m\\033[92m                                             ║ \n",
        "│║=========================================================================║\n",
        "│║===============================> Ingrese número para seleccionar opción: ║\n",
        " ╚═════════════════════════════════════════════════════════════════════════╝\n",
        "''')\n",
        "\n",
        "a = ['1','2','3','4','5']\n",
        "opcion = input('                                    =====> ')\n",
        "while opcion not in a:\n",
        "  print('Opción incorrecta.')\n",
        "  menu()\n",
        "  break\n",
        "\n",
        "# Funcion de las opciones:\n",
        "if opcion == '1':\n",
        "  histograma_vertical()\n",
        "elif opcion == '2':  \n",
        "  histograma_horizontal()\n",
        "elif opcion == '3':\n",
        "  opcion_3()\n",
        "elif opcion == '4':\n",
        "  opcion_4()\n",
        "elif opcion == '5':\n",
        "  opcion_5()"
      ],
      "metadata": {
        "colab": {
          "base_uri": "https://localhost:8080/"
        },
        "id": "aviY_7KVbmDr",
        "outputId": "1d7d2fc0-bd57-4875-f9ef-0909e3281e1a"
      },
      "execution_count": null,
      "outputs": [
        {
          "output_type": "stream",
          "name": "stdout",
          "text": [
            "\u001b[92m\n",
            " ─────────────────────────────────────────────────────────────────────────\n",
            "|╔═════════════════════════════════════════════════════════════════════════╗\n",
            "│║=========================================================================║\n",
            "│║=========================================================================║\n",
            "│║==========\u001b[99m█▀▄▀█ █   █▀▀ █▀▀ █▄░█ █ ▄▀█ █░░   █▀▄▀█ █▀▀ █▄░█ █░█\u001b[0m\u001b[92m==========║\n",
            "│║==========\u001b[97m█░▀░█ █   █▄█ ██▄ █░▀█ █ █▀█ █▄▄   █░▀░█ ██▄ █░▀█ █▄█\u001b[\u001b[92m==========║\n",
            "│║=========================================================================║\n",
            "│║=========================================================================║\n",
            "│║                  \u001b[92m[1] Hacer el histograma en vertical                    ║ \n",
            "│║                                                                         ║ \n",
            "│║                  [2] Hacer el histograma en horizontal                  ║\n",
            "│║                                                                         ║\n",
            "│║                  [3] Ordenar de mayor a menor                           ║\n",
            "│║                                                                         ║\n",
            "│║                  [4] Ordenar de menor a mayor                           ║\n",
            "│║                                                                         ║ \n",
            "│║                  [5] Salir \u001b[0m\u001b[92m                                             ║ \n",
            "│║=========================================================================║\n",
            "│║===============================> Ingrese número para seleccionar opción: ║\n",
            " ╚═════════════════════════════════════════════════════════════════════════╝\n",
            "\n",
            "                                    =====> 5\n",
            "\n",
            "  ________    _         _         __  __                           __\n",
            " /_  __/ /_  (_)____   (_)____   / /_/ /_  ___     ___  ____  ____/ /\n",
            "  / / / __ \\/ / ___/  / / ___/  / __/ __ \\/ _ \\   / _ \\/ __ \\/ __  / \n",
            " \u001b[97m/ / / / / / (__  )  / (__  )  / /_/ / / /  __/  /  __/ / / / /_/ /_ \n",
            "/_/ /_/ /_/_/____/  /_/____/   \\__/_/ /_/\\___/   \\___/_/ /_/\\__,_/(_)\u001b[92m\n",
            "=========================================> Ha finalizado el programa.\n",
            "  \n"
          ]
        }
      ]
    },
    {
      "cell_type": "markdown",
      "source": [
        "# ***Ejercicio 2***"
      ],
      "metadata": {
        "id": "-C3IjHM2Xt9y"
      }
    },
    {
      "cell_type": "code",
      "source": [
        "def ingresaAlista(lista_nombres,nombre):\n",
        "    nombre_cap = nombre.capitalize()\n",
        "    lista_nombres.append(nombre_cap)\n",
        "    lista_nombres.sort(reverse=False)\n",
        "    print(lista_nombres)\n",
        "ingresaAlista(['Z','Eduardo quiroz','A', 'Isabel pintos', 'Juan munuce'],'pedro Ramirez')"
      ],
      "metadata": {
        "id": "Qn9Omt0AXyax",
        "colab": {
          "base_uri": "https://localhost:8080/"
        },
        "outputId": "f136f519-48bc-40d8-81fc-132b28fcc6a9"
      },
      "execution_count": null,
      "outputs": [
        {
          "output_type": "stream",
          "name": "stdout",
          "text": [
            "['A', 'Eduardo quiroz', 'Isabel pintos', 'Juan munuce', 'Pedro ramirez', 'Z']\n"
          ]
        }
      ]
    },
    {
      "cell_type": "code",
      "source": [
        "# lista_nombres = ([input('Ingrese nombres: ')])\n",
        "lista_nombres = []\n",
        "while True:\n",
        "  a = input().capitalize()\n",
        "  lista_nombres.append(a)\n",
        "  if a == '':\n",
        "    break\n",
        "print(lista_nombres)"
      ],
      "metadata": {
        "colab": {
          "base_uri": "https://localhost:8080/"
        },
        "id": "nzPO8lQSvUJr",
        "outputId": "ebf2c5b6-a46c-4183-c0a6-15baad8c5e3a"
      },
      "execution_count": null,
      "outputs": [
        {
          "output_type": "stream",
          "name": "stdout",
          "text": [
            "nicolas medina\n",
            "isabel pintos\n",
            "ricardo rasmusen\n",
            "juan roccia\n",
            "juan munuce\n",
            "eduardo quiroz\n",
            "tomas ribes\n",
            "mikael rodriguez\n",
            "\n",
            "['Nicolas medina', 'Isabel pintos', 'Ricardo rasmusen', 'Juan roccia', 'Juan munuce', 'Eduardo quiroz', 'Tomas ribes', 'Mikael rodriguez', '']\n"
          ]
        }
      ]
    },
    {
      "cell_type": "code",
      "source": [
        "lista_nombres.sort(reverse=False)\n",
        "print(lista_nombres)"
      ],
      "metadata": {
        "colab": {
          "base_uri": "https://localhost:8080/"
        },
        "id": "uklhk_yLLuLY",
        "outputId": "e1605b57-95b8-409d-8d6f-4bf3b6f38077"
      },
      "execution_count": null,
      "outputs": [
        {
          "output_type": "stream",
          "name": "stdout",
          "text": [
            "['', 'Eduardo quiroz', 'Isabel pintos', 'Juan munuce', 'Juan roccia', 'Mikael rodriguez', 'Nicolas medina', 'Ricardo rasmusen', 'Tomas ribes']\n"
          ]
        }
      ]
    },
    {
      "cell_type": "code",
      "source": [
        "# Como matar un ciclo while True con la tecla enter\n",
        "\n",
        "a=input()\n",
        "while True:\n",
        "    print(a)\n",
        "    if a=='':\n",
        "        break\n",
        "    a=input()"
      ],
      "metadata": {
        "id": "ZMNRotjXKGhY"
      },
      "execution_count": null,
      "outputs": []
    },
    {
      "cell_type": "code",
      "source": [
        "# Como matar un ciclo while True con la tecla enter\n",
        "\n",
        "while True:\n",
        "        if input() == '\\n':\n",
        "            break"
      ],
      "metadata": {
        "id": "uNjsslE_KHMn"
      },
      "execution_count": null,
      "outputs": []
    },
    {
      "cell_type": "code",
      "source": [
        "# En este ejemplo, reverse=True ordenará la lista en orden alfabético inverso.\n",
        "\n",
        "nombres = [\"Jessica\", \"Ben\", \"Carl\", \"Jackie\", \"Wendy\"]\n",
        "\n",
        "print(\"Desordenado: \", nombres)\n",
        "nombres.sort(reverse=True)\n",
        "print(\"Ordenado: \", nombres)"
      ],
      "metadata": {
        "id": "Ydu3rKeKMLuo"
      },
      "execution_count": null,
      "outputs": []
    },
    {
      "cell_type": "markdown",
      "source": [
        "# ***Ejercicio 3***"
      ],
      "metadata": {
        "id": "yu7DnsJq0mOB"
      }
    },
    {
      "cell_type": "markdown",
      "source": [
        "### Colores (nada que ver)"
      ],
      "metadata": {
        "id": "vE5VLZbAH8fI"
      }
    },
    {
      "cell_type": "code",
      "source": [
        "class color:\n",
        "   PURPLE = '\\033[95m'\n",
        "   CYAN = '\\033[96m'\n",
        "   DARKCYAN = '\\033[36m'\n",
        "   BLUE = '\\033[94m'\n",
        "   GREEN = '\\033[92m'\n",
        "   YELLOW = '\\033[93m'\n",
        "   RED = '\\033[91m'\n",
        "   BOLD = '\\033[1m'\n",
        "   UNDERLINE = '\\033[4m'\n",
        "   END = '\\033[0m'\n",
        "\n",
        "print(f'{color.BOLD} Hello World !')"
      ],
      "metadata": {
        "colab": {
          "base_uri": "https://localhost:8080/"
        },
        "id": "KsOGs5znC1k5",
        "outputId": "0fca40d8-543f-4f14-9c92-17b74df399dd"
      },
      "execution_count": null,
      "outputs": [
        {
          "output_type": "stream",
          "name": "stdout",
          "text": [
            "\u001b[1m Hello World !\n"
          ]
        }
      ]
    },
    {
      "cell_type": "markdown",
      "source": [
        "## ***Funcion***\n",
        "\n",
        "Programa para seleccionar una medicion a partir de un lista y mostrar la celda del dato numerico seleccionado. Repetir esta accion hasat que el Usuario decida salir con la letra \"q\"."
      ],
      "metadata": {
        "id": "OgyXI8XZIELP"
      }
    },
    {
      "cell_type": "code",
      "source": [
        "# Funcion:\n",
        "\n",
        "mediciones = [['dato1',12], ['dato2',73], ['dato3',9], ['dato4',88], ['dato5',12], ['dato6',79], ['dato7',13],\n",
        "              ['dato8',96], ['dato9',16], ['dato10',83]]\n",
        "\n",
        "opciones = ['0','1','2','3','4','5','6','7','8','9']\n",
        "\n",
        "print(f'''\n",
        "{color.BOLD}Para acceder a los datos del sistema:{color.END}\n",
        "Ingrese un numero del 1 al 10 y se mostrara la medicion seleccionada.\n",
        "Para finalizar ingrese \"q\"\n",
        "      ''')\n",
        "\n",
        "def celdaDato(eleccion):\n",
        "  while True:\n",
        "    a = 0\n",
        "    for i in opciones:\n",
        "      b = mediciones[a]\n",
        "      a += 1\n",
        "      a_str = str(a)\n",
        "      if eleccion == a_str:\n",
        "          return(b)\n",
        "\n",
        "    if eleccion == 'q':\n",
        "      break\n",
        "\n",
        "while True:\n",
        "  eleccion = str(input('Opciones: '))\n",
        "  if eleccion == 'q':\n",
        "    print('Analisis de datos finalizado.')\n",
        "    break\n",
        "  else:\n",
        "    print(f'Medicion seleccionada: {celdaDato(eleccion)} ')"
      ],
      "metadata": {
        "id": "lyf0UYFQ0qbg",
        "colab": {
          "base_uri": "https://localhost:8080/"
        },
        "outputId": "641a8f81-6149-4ffb-bc93-8bab00192b48"
      },
      "execution_count": null,
      "outputs": [
        {
          "output_type": "stream",
          "name": "stdout",
          "text": [
            "\n",
            "\u001b[1mPara acceder a los datos del sistema:\u001b[0m\n",
            "Ingrese un numero del 1 al 10 y se mostrara la medicion seleccionada.\n",
            "Para finalizar ingrese \"q\"\n",
            "      \n",
            "Opciones: 1\n",
            "Medicion seleccionada: ['dato1', 12] \n",
            "Opciones: 2\n",
            "Medicion seleccionada: ['dato2', 73] \n",
            "Opciones: 10\n",
            "Medicion seleccionada: ['dato10', 83] \n",
            "Opciones: q\n",
            "Analisis de datos finalizado.\n"
          ]
        }
      ]
    },
    {
      "cell_type": "code",
      "source": [
        "# Metodo con strings:\n",
        "\n",
        "mediciones = [['dato1',12], ['dato2',73], ['dato3',9], ['dato4',88], ['dato5',12], ['dato6',79], ['dato7',13],\n",
        "              ['dato8',96], ['dato9',16], ['dato10',83]]\n",
        "\n",
        "opciones = ['0','1','2','3','4','5','6','7','8','9']              \n",
        "print(f'''\n",
        "{color.BOLD}Para acceder a los datos del sistema:{color.END}\n",
        "Ingrese un numero del 1 al 10 y se mostrara la medicion seleccionada.\n",
        "Para finalizar ingrese \"q\"\n",
        "      ''')\n",
        "\n",
        "while True:\n",
        "  eleccion = str(input('Opciones: '))\n",
        "  a = 0\n",
        "  for i in opciones:\n",
        "    b = mediciones[a]\n",
        "    a += 1\n",
        "    a_str = str(a)\n",
        "    if eleccion == a_str:\n",
        "        print(f'Medicion seleccionada: {b}')\n",
        "\n",
        "  if eleccion == 'q':\n",
        "    print('Analisis de datos finalizado.')\n",
        "    break\n",
        "    "
      ],
      "metadata": {
        "colab": {
          "base_uri": "https://localhost:8080/"
        },
        "id": "YJgJl99MwjHA",
        "outputId": "2f84aee3-cb04-45a1-f054-003a3bd88f19"
      },
      "execution_count": null,
      "outputs": [
        {
          "output_type": "stream",
          "name": "stdout",
          "text": [
            "\n",
            "\u001b[1mPara acceder a los datos del sistema:\u001b[0m\n",
            "Ingrese un numero del 1 al 10 y se mostrara la medicion seleccionada.\n",
            "Para finalizar ingrese \"q\"\n",
            "      \n",
            "Opciones: 1\n",
            "Medicion seleccionada: ['dato1', 12]\n",
            "Opciones: 10\n",
            "Medicion seleccionada: ['dato10', 83]\n",
            "Opciones: q\n",
            "Analisis de datos finalizado.\n"
          ]
        }
      ]
    },
    {
      "cell_type": "code",
      "source": [
        "# Metodo combinado con str e int:\n",
        "\n",
        "mediciones = [['dato1',12], ['dato2',73], ['dato3',9], ['dato4',88], ['dato5',12], ['dato6',79], ['dato7',13],\n",
        "              ['dato8',96], ['dato9',16], ['dato10',83]]\n",
        "\n",
        "while True:\n",
        "  eleccion = int(input('numero del 1 al 10: '))\n",
        "  a = 0\n",
        "  for i in range(0,10):\n",
        "    eleccion_int = int(eleccion)\n",
        "    b = mediciones[a]\n",
        "    a += 1\n",
        "    if eleccion_int == a:\n",
        "      print(b)\n",
        "\n",
        "  finalizar = str(input('Ingrese \"q\" para finalizar: '))\n",
        "  if finalizar == 'q':\n",
        "    print('Analisis de datos finalizado.3')\n",
        "    break"
      ],
      "metadata": {
        "colab": {
          "base_uri": "https://localhost:8080/"
        },
        "id": "fpupJeeMsSvS",
        "outputId": "0d1672e6-7685-4609-e655-3fe8cd0afc81"
      },
      "execution_count": null,
      "outputs": [
        {
          "output_type": "stream",
          "name": "stdout",
          "text": [
            "numero del 1 al 10: 1\n",
            "['dato1', 12]\n",
            "Ingrese \"q\" para finalizar: \n",
            "numero del 1 al 10: 2\n",
            "['dato2', 73]\n",
            "Ingrese \"q\" para finalizar: \n",
            "numero del 1 al 10: 3\n",
            "['dato3', 9]\n",
            "Ingrese \"q\" para finalizar: q\n",
            "Analisis de datos finalizado.\n"
          ]
        }
      ]
    },
    {
      "cell_type": "markdown",
      "source": [
        "# ***Ejercicio 4***"
      ],
      "metadata": {
        "id": "_ZJKMjPvvvR4"
      }
    },
    {
      "cell_type": "markdown",
      "source": [
        "Corregir el código a continuacion, ahora, ahi va:"
      ],
      "metadata": {
        "id": "6FVeNLUtwj4q"
      }
    },
    {
      "cell_type": "code",
      "source": [
        "# En su lugar muestra 5, que hay que corregir? \n",
        "# Se espera que muestre el número 2 en panalla.\n",
        "#   x = 5    y = 1\n",
        "\n",
        "def maximo(a,b):\n",
        "  if x > y:\n",
        "    return x\n",
        "  else:\n",
        "    return y\n",
        "\n",
        "def minimo(a,b):\n",
        "  if x < y:\n",
        "    return x\n",
        "  else:\n",
        "    return y    \n",
        "\n",
        "# Programa principal\n",
        "x=int(input('Un número: '))\n",
        "y=int(input('Otro número: '))\n",
        "print(maximo(x-3, minimo(x-2, y-5)))"
      ],
      "metadata": {
        "colab": {
          "base_uri": "https://localhost:8080/"
        },
        "id": "-pHlZ7_avzNI",
        "outputId": "510d2523-41fc-41b7-e889-ed7dc0cb75bb"
      },
      "execution_count": null,
      "outputs": [
        {
          "output_type": "stream",
          "name": "stdout",
          "text": [
            "Un número: 5\n",
            "Otro número: 1\n",
            "5\n"
          ]
        }
      ]
    },
    {
      "cell_type": "code",
      "source": [
        "# Yo lo resolvi restando '3' a la 'x' de la funcion 'maximo'\n",
        "\n",
        "# Pero no entiendo por que en vez de retornar '2' y '1' (que seria el valor de 'y' en la funcion minimo).\n",
        "#  retorna solo '2' (o sea solo la funcion maximo)\n",
        "\n",
        "# Es porque printea la primer funcion, bajo crietrio de anda a saber quee\n",
        "\n",
        "def maximo(a,b):\n",
        "  if x > y:\n",
        "    return x -3\n",
        "  else:\n",
        "    return y\n",
        "\n",
        "def minimo(a,b):\n",
        "  if x < y:\n",
        "    return x\n",
        "  else:\n",
        "    return y\n",
        "\n",
        "# Programa principal\n",
        "x=int(input('Un número: '))\n",
        "y=int(input('Otro número: '))\n",
        "print(maximo(x-3, minimo(x-2, y-5)))"
      ],
      "metadata": {
        "colab": {
          "base_uri": "https://localhost:8080/"
        },
        "id": "iOBGFv0Z_V6B",
        "outputId": "c3ef883a-d337-4a61-d38a-fbcec3a07dd3"
      },
      "execution_count": null,
      "outputs": [
        {
          "output_type": "stream",
          "name": "stdout",
          "text": [
            "Un número: 5\n",
            "Otro número: 1\n",
            "2\n"
          ]
        }
      ]
    },
    {
      "cell_type": "code",
      "source": [
        "# si en el print, primero le pido 'minimo' printea el valor de 'y' de la misma.\n",
        "\n",
        "def maximo(a,b):\n",
        "  x = 5 -3\n",
        "  y = 1\n",
        "  return x\n",
        "\n",
        "def minimo(a,b): \n",
        "  x = 5\n",
        "  y = 1\n",
        "  return y\n",
        "  \n",
        "print(minimo(x-3,maximo(x-2, y-5))) "
      ],
      "metadata": {
        "colab": {
          "base_uri": "https://localhost:8080/"
        },
        "id": "XV4vXyzLCLAZ",
        "outputId": "4d527491-d1df-49db-ce01-0d559500d9f8"
      },
      "execution_count": null,
      "outputs": [
        {
          "output_type": "stream",
          "name": "stdout",
          "text": [
            "1\n"
          ]
        }
      ]
    },
    {
      "cell_type": "code",
      "source": [
        "# y sino:\n",
        "\n",
        "print(maximo(x-3,minimo(x-2, y-5))) "
      ],
      "metadata": {
        "colab": {
          "base_uri": "https://localhost:8080/"
        },
        "id": "uu7W5PzDFh38",
        "outputId": "ba0bcb9d-905b-45ee-e29f-bbaeefaee28e"
      },
      "execution_count": null,
      "outputs": [
        {
          "output_type": "stream",
          "name": "stdout",
          "text": [
            "2\n"
          ]
        }
      ]
    },
    {
      "cell_type": "markdown",
      "source": [
        "# ***Ejercicio 5***"
      ],
      "metadata": {
        "id": "qQOHXjncFrLt"
      }
    },
    {
      "cell_type": "code",
      "source": [],
      "metadata": {
        "id": "eCfAAoG1CrWf"
      },
      "execution_count": null,
      "outputs": []
    }
  ]
}